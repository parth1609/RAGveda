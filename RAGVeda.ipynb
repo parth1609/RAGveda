{
  "nbformat": 4,
  "nbformat_minor": 0,
  "metadata": {
    "colab": {
      "provenance": []
    },
    "kernelspec": {
      "name": "python3",
      "display_name": "Python 3"
    },
    "language_info": {
      "name": "python"
    }
  },
  "cells": [
    {
      "cell_type": "code",
      "execution_count": 1,
      "metadata": {
        "id": "qBbEDSrGoAMU",
        "colab": {
          "base_uri": "https://localhost:8080/"
        },
        "outputId": "4fcffa41-9f60-41b7-b81b-bb2558d28361"
      },
      "outputs": [
        {
          "output_type": "stream",
          "name": "stdout",
          "text": [
            "\u001b[?25l   \u001b[90m━━━━━━━━━━━━━━━━━━━━━━━━━━━━━━━━━━━━━━━━\u001b[0m \u001b[32m0.0/1.0 MB\u001b[0m \u001b[31m?\u001b[0m eta \u001b[36m-:--:--\u001b[0m\r\u001b[2K   \u001b[91m━━━━━━━━━━━━━━━━━━━━━━━━━━━━━━━━━━━━━━━\u001b[0m\u001b[91m╸\u001b[0m \u001b[32m1.0/1.0 MB\u001b[0m \u001b[31m31.1 MB/s\u001b[0m eta \u001b[36m0:00:01\u001b[0m\r\u001b[2K   \u001b[90m━━━━━━━━━━━━━━━━━━━━━━━━━━━━━━━━━━━━━━━━\u001b[0m \u001b[32m1.0/1.0 MB\u001b[0m \u001b[31m18.5 MB/s\u001b[0m eta \u001b[36m0:00:00\u001b[0m\n",
            "\u001b[2K   \u001b[90m━━━━━━━━━━━━━━━━━━━━━━━━━━━━━━━━━━━━━━━━\u001b[0m \u001b[32m2.5/2.5 MB\u001b[0m \u001b[31m66.7 MB/s\u001b[0m eta \u001b[36m0:00:00\u001b[0m\n",
            "\u001b[2K   \u001b[90m━━━━━━━━━━━━━━━━━━━━━━━━━━━━━━━━━━━━━━━━\u001b[0m \u001b[32m301.7/301.7 kB\u001b[0m \u001b[31m16.9 MB/s\u001b[0m eta \u001b[36m0:00:00\u001b[0m\n",
            "\u001b[2K   \u001b[90m━━━━━━━━━━━━━━━━━━━━━━━━━━━━━━━━━━━━━━━━\u001b[0m \u001b[32m109.1/109.1 kB\u001b[0m \u001b[31m6.9 MB/s\u001b[0m eta \u001b[36m0:00:00\u001b[0m\n",
            "\u001b[2K   \u001b[90m━━━━━━━━━━━━━━━━━━━━━━━━━━━━━━━━━━━━━━━━\u001b[0m \u001b[32m411.6/411.6 kB\u001b[0m \u001b[31m21.9 MB/s\u001b[0m eta \u001b[36m0:00:00\u001b[0m\n",
            "\u001b[2K   \u001b[90m━━━━━━━━━━━━━━━━━━━━━━━━━━━━━━━━━━━━━━━━\u001b[0m \u001b[32m48.9/48.9 kB\u001b[0m \u001b[31m3.2 MB/s\u001b[0m eta \u001b[36m0:00:00\u001b[0m\n",
            "\u001b[?25h"
          ]
        }
      ],
      "source": [
        "!pip install --upgrade --quiet  langchain langchain-community langchain-groq neo4j python-dotenv langchain-neo4j"
      ]
    },
    {
      "cell_type": "code",
      "source": [
        "from google.colab import userdata\n",
        "NEO4J_URI = userdata.get('NEO4J_URI')\n",
        "NEO4J_USERNAME = userdata.get('NEO4J_USERNAME')\n",
        "NEO4J_PASSWORD = userdata.get('NEO4J_PASSWORD')\n",
        "NVIDIA_API_KEY = userdata.get('NVIDIA_API_KEY')\n",
        "\n",
        "\n",
        "NEO4J_URI = NEO4J_URI\n",
        "NEO4J_USERNAME = NEO4J_USERNAME\n",
        "NEO4J_PASSWORD = NEO4J_PASSWORD\n",
        "NVIDIA_API_KEY =NVIDIA_API_KEY"
      ],
      "metadata": {
        "id": "_XoQHCbrvgPN"
      },
      "execution_count": 2,
      "outputs": []
    },
    {
      "cell_type": "code",
      "source": [
        "import os\n",
        "\n",
        "\n",
        "os.environ[\"NEO4J_URI\"] = NEO4J_URI\n",
        "os.environ[\"NEO4J_USERNAME\"] = NEO4J_USERNAME\n",
        "os.environ[\"NEO4J_PASSWORD\"] = NEO4J_PASSWORD\n"
      ],
      "metadata": {
        "id": "zKI-16Llvx6u"
      },
      "execution_count": 3,
      "outputs": []
    },
    {
      "cell_type": "code",
      "source": [
        "from langchain_community.graphs import Neo4jGraph\n",
        "graph=Neo4jGraph(\n",
        "    url=str(NEO4J_URI),\n",
        "    username= str(NEO4J_USERNAME),\n",
        "    password=str(NEO4J_PASSWORD),\n",
        ")\n",
        "graph"
      ],
      "metadata": {
        "colab": {
          "base_uri": "https://localhost:8080/"
        },
        "id": "bkX-eIWPrWm3",
        "outputId": "851e7954-6f98-4e61-8b01-3be6554f7b13"
      },
      "execution_count": 4,
      "outputs": [
        {
          "output_type": "stream",
          "name": "stderr",
          "text": [
            "<ipython-input-4-6cc53d2d5161>:2: LangChainDeprecationWarning: The class `Neo4jGraph` was deprecated in LangChain 0.3.8 and will be removed in 1.0. An updated version of the class exists in the :class:`~langchain-neo4j package and should be used instead. To use it run `pip install -U :class:`~langchain-neo4j` and import as `from :class:`~langchain_neo4j import Neo4jGraph``.\n",
            "  graph=Neo4jGraph(\n"
          ]
        },
        {
          "output_type": "execute_result",
          "data": {
            "text/plain": [
              "<langchain_community.graphs.neo4j_graph.Neo4jGraph at 0x79f5dc2b6590>"
            ]
          },
          "metadata": {},
          "execution_count": 4
        }
      ]
    },
    {
      "cell_type": "code",
      "source": [
        "!pip install langchain-experimental"
      ],
      "metadata": {
        "colab": {
          "base_uri": "https://localhost:8080/"
        },
        "id": "LBAQXraOEoaV",
        "outputId": "5df1a288-65ea-4389-a8f3-fbac31a630c5"
      },
      "execution_count": 6,
      "outputs": [
        {
          "output_type": "stream",
          "name": "stdout",
          "text": [
            "Collecting langchain-experimental\n",
            "  Downloading langchain_experimental-0.3.4-py3-none-any.whl.metadata (1.7 kB)\n",
            "Requirement already satisfied: langchain-community<0.4.0,>=0.3.0 in /usr/local/lib/python3.10/dist-packages (from langchain-experimental) (0.3.14)\n",
            "Requirement already satisfied: langchain-core<0.4.0,>=0.3.28 in /usr/local/lib/python3.10/dist-packages (from langchain-experimental) (0.3.29)\n",
            "Requirement already satisfied: PyYAML>=5.3 in /usr/local/lib/python3.10/dist-packages (from langchain-community<0.4.0,>=0.3.0->langchain-experimental) (6.0.2)\n",
            "Requirement already satisfied: SQLAlchemy<3,>=1.4 in /usr/local/lib/python3.10/dist-packages (from langchain-community<0.4.0,>=0.3.0->langchain-experimental) (2.0.36)\n",
            "Requirement already satisfied: aiohttp<4.0.0,>=3.8.3 in /usr/local/lib/python3.10/dist-packages (from langchain-community<0.4.0,>=0.3.0->langchain-experimental) (3.11.10)\n",
            "Requirement already satisfied: dataclasses-json<0.7,>=0.5.7 in /usr/local/lib/python3.10/dist-packages (from langchain-community<0.4.0,>=0.3.0->langchain-experimental) (0.6.7)\n",
            "Requirement already satisfied: httpx-sse<0.5.0,>=0.4.0 in /usr/local/lib/python3.10/dist-packages (from langchain-community<0.4.0,>=0.3.0->langchain-experimental) (0.4.0)\n",
            "Requirement already satisfied: langchain<0.4.0,>=0.3.14 in /usr/local/lib/python3.10/dist-packages (from langchain-community<0.4.0,>=0.3.0->langchain-experimental) (0.3.14)\n",
            "Requirement already satisfied: langsmith<0.3,>=0.1.125 in /usr/local/lib/python3.10/dist-packages (from langchain-community<0.4.0,>=0.3.0->langchain-experimental) (0.2.3)\n",
            "Requirement already satisfied: numpy<2,>=1.22.4 in /usr/local/lib/python3.10/dist-packages (from langchain-community<0.4.0,>=0.3.0->langchain-experimental) (1.26.4)\n",
            "Requirement already satisfied: pydantic-settings<3.0.0,>=2.4.0 in /usr/local/lib/python3.10/dist-packages (from langchain-community<0.4.0,>=0.3.0->langchain-experimental) (2.7.1)\n",
            "Requirement already satisfied: requests<3,>=2 in /usr/local/lib/python3.10/dist-packages (from langchain-community<0.4.0,>=0.3.0->langchain-experimental) (2.32.3)\n",
            "Requirement already satisfied: tenacity!=8.4.0,<10,>=8.1.0 in /usr/local/lib/python3.10/dist-packages (from langchain-community<0.4.0,>=0.3.0->langchain-experimental) (9.0.0)\n",
            "Requirement already satisfied: jsonpatch<2.0,>=1.33 in /usr/local/lib/python3.10/dist-packages (from langchain-core<0.4.0,>=0.3.28->langchain-experimental) (1.33)\n",
            "Requirement already satisfied: packaging<25,>=23.2 in /usr/local/lib/python3.10/dist-packages (from langchain-core<0.4.0,>=0.3.28->langchain-experimental) (24.2)\n",
            "Requirement already satisfied: pydantic<3.0.0,>=2.5.2 in /usr/local/lib/python3.10/dist-packages (from langchain-core<0.4.0,>=0.3.28->langchain-experimental) (2.10.3)\n",
            "Requirement already satisfied: typing-extensions>=4.7 in /usr/local/lib/python3.10/dist-packages (from langchain-core<0.4.0,>=0.3.28->langchain-experimental) (4.12.2)\n",
            "Requirement already satisfied: aiohappyeyeballs>=2.3.0 in /usr/local/lib/python3.10/dist-packages (from aiohttp<4.0.0,>=3.8.3->langchain-community<0.4.0,>=0.3.0->langchain-experimental) (2.4.4)\n",
            "Requirement already satisfied: aiosignal>=1.1.2 in /usr/local/lib/python3.10/dist-packages (from aiohttp<4.0.0,>=3.8.3->langchain-community<0.4.0,>=0.3.0->langchain-experimental) (1.3.2)\n",
            "Requirement already satisfied: async-timeout<6.0,>=4.0 in /usr/local/lib/python3.10/dist-packages (from aiohttp<4.0.0,>=3.8.3->langchain-community<0.4.0,>=0.3.0->langchain-experimental) (4.0.3)\n",
            "Requirement already satisfied: attrs>=17.3.0 in /usr/local/lib/python3.10/dist-packages (from aiohttp<4.0.0,>=3.8.3->langchain-community<0.4.0,>=0.3.0->langchain-experimental) (24.3.0)\n",
            "Requirement already satisfied: frozenlist>=1.1.1 in /usr/local/lib/python3.10/dist-packages (from aiohttp<4.0.0,>=3.8.3->langchain-community<0.4.0,>=0.3.0->langchain-experimental) (1.5.0)\n",
            "Requirement already satisfied: multidict<7.0,>=4.5 in /usr/local/lib/python3.10/dist-packages (from aiohttp<4.0.0,>=3.8.3->langchain-community<0.4.0,>=0.3.0->langchain-experimental) (6.1.0)\n",
            "Requirement already satisfied: propcache>=0.2.0 in /usr/local/lib/python3.10/dist-packages (from aiohttp<4.0.0,>=3.8.3->langchain-community<0.4.0,>=0.3.0->langchain-experimental) (0.2.1)\n",
            "Requirement already satisfied: yarl<2.0,>=1.17.0 in /usr/local/lib/python3.10/dist-packages (from aiohttp<4.0.0,>=3.8.3->langchain-community<0.4.0,>=0.3.0->langchain-experimental) (1.18.3)\n",
            "Requirement already satisfied: marshmallow<4.0.0,>=3.18.0 in /usr/local/lib/python3.10/dist-packages (from dataclasses-json<0.7,>=0.5.7->langchain-community<0.4.0,>=0.3.0->langchain-experimental) (3.23.3)\n",
            "Requirement already satisfied: typing-inspect<1,>=0.4.0 in /usr/local/lib/python3.10/dist-packages (from dataclasses-json<0.7,>=0.5.7->langchain-community<0.4.0,>=0.3.0->langchain-experimental) (0.9.0)\n",
            "Requirement already satisfied: jsonpointer>=1.9 in /usr/local/lib/python3.10/dist-packages (from jsonpatch<2.0,>=1.33->langchain-core<0.4.0,>=0.3.28->langchain-experimental) (3.0.0)\n",
            "Requirement already satisfied: langchain-text-splitters<0.4.0,>=0.3.3 in /usr/local/lib/python3.10/dist-packages (from langchain<0.4.0,>=0.3.14->langchain-community<0.4.0,>=0.3.0->langchain-experimental) (0.3.3)\n",
            "Requirement already satisfied: httpx<1,>=0.23.0 in /usr/local/lib/python3.10/dist-packages (from langsmith<0.3,>=0.1.125->langchain-community<0.4.0,>=0.3.0->langchain-experimental) (0.28.1)\n",
            "Requirement already satisfied: orjson<4.0.0,>=3.9.14 in /usr/local/lib/python3.10/dist-packages (from langsmith<0.3,>=0.1.125->langchain-community<0.4.0,>=0.3.0->langchain-experimental) (3.10.12)\n",
            "Requirement already satisfied: requests-toolbelt<2.0.0,>=1.0.0 in /usr/local/lib/python3.10/dist-packages (from langsmith<0.3,>=0.1.125->langchain-community<0.4.0,>=0.3.0->langchain-experimental) (1.0.0)\n",
            "Requirement already satisfied: annotated-types>=0.6.0 in /usr/local/lib/python3.10/dist-packages (from pydantic<3.0.0,>=2.5.2->langchain-core<0.4.0,>=0.3.28->langchain-experimental) (0.7.0)\n",
            "Requirement already satisfied: pydantic-core==2.27.1 in /usr/local/lib/python3.10/dist-packages (from pydantic<3.0.0,>=2.5.2->langchain-core<0.4.0,>=0.3.28->langchain-experimental) (2.27.1)\n",
            "Requirement already satisfied: python-dotenv>=0.21.0 in /usr/local/lib/python3.10/dist-packages (from pydantic-settings<3.0.0,>=2.4.0->langchain-community<0.4.0,>=0.3.0->langchain-experimental) (1.0.1)\n",
            "Requirement already satisfied: charset-normalizer<4,>=2 in /usr/local/lib/python3.10/dist-packages (from requests<3,>=2->langchain-community<0.4.0,>=0.3.0->langchain-experimental) (3.4.0)\n",
            "Requirement already satisfied: idna<4,>=2.5 in /usr/local/lib/python3.10/dist-packages (from requests<3,>=2->langchain-community<0.4.0,>=0.3.0->langchain-experimental) (3.10)\n",
            "Requirement already satisfied: urllib3<3,>=1.21.1 in /usr/local/lib/python3.10/dist-packages (from requests<3,>=2->langchain-community<0.4.0,>=0.3.0->langchain-experimental) (2.2.3)\n",
            "Requirement already satisfied: certifi>=2017.4.17 in /usr/local/lib/python3.10/dist-packages (from requests<3,>=2->langchain-community<0.4.0,>=0.3.0->langchain-experimental) (2024.12.14)\n",
            "Requirement already satisfied: greenlet!=0.4.17 in /usr/local/lib/python3.10/dist-packages (from SQLAlchemy<3,>=1.4->langchain-community<0.4.0,>=0.3.0->langchain-experimental) (3.1.1)\n",
            "Requirement already satisfied: anyio in /usr/local/lib/python3.10/dist-packages (from httpx<1,>=0.23.0->langsmith<0.3,>=0.1.125->langchain-community<0.4.0,>=0.3.0->langchain-experimental) (3.7.1)\n",
            "Requirement already satisfied: httpcore==1.* in /usr/local/lib/python3.10/dist-packages (from httpx<1,>=0.23.0->langsmith<0.3,>=0.1.125->langchain-community<0.4.0,>=0.3.0->langchain-experimental) (1.0.7)\n",
            "Requirement already satisfied: h11<0.15,>=0.13 in /usr/local/lib/python3.10/dist-packages (from httpcore==1.*->httpx<1,>=0.23.0->langsmith<0.3,>=0.1.125->langchain-community<0.4.0,>=0.3.0->langchain-experimental) (0.14.0)\n",
            "Requirement already satisfied: mypy-extensions>=0.3.0 in /usr/local/lib/python3.10/dist-packages (from typing-inspect<1,>=0.4.0->dataclasses-json<0.7,>=0.5.7->langchain-community<0.4.0,>=0.3.0->langchain-experimental) (1.0.0)\n",
            "Requirement already satisfied: sniffio>=1.1 in /usr/local/lib/python3.10/dist-packages (from anyio->httpx<1,>=0.23.0->langsmith<0.3,>=0.1.125->langchain-community<0.4.0,>=0.3.0->langchain-experimental) (1.3.1)\n",
            "Requirement already satisfied: exceptiongroup in /usr/local/lib/python3.10/dist-packages (from anyio->httpx<1,>=0.23.0->langsmith<0.3,>=0.1.125->langchain-community<0.4.0,>=0.3.0->langchain-experimental) (1.2.2)\n",
            "Downloading langchain_experimental-0.3.4-py3-none-any.whl (209 kB)\n",
            "\u001b[2K   \u001b[90m━━━━━━━━━━━━━━━━━━━━━━━━━━━━━━━━━━━━━━━━\u001b[0m \u001b[32m209.2/209.2 kB\u001b[0m \u001b[31m4.7 MB/s\u001b[0m eta \u001b[36m0:00:00\u001b[0m\n",
            "\u001b[?25hInstalling collected packages: langchain-experimental\n",
            "Successfully installed langchain-experimental-0.3.4\n"
          ]
        }
      ]
    },
    {
      "cell_type": "code",
      "source": [
        "query = \"\"\"\n",
        "// Create Knowledge node\n",
        "MERGE (knowledge:Knowledge {name: 'Knowledge'})\n",
        "\n",
        "// Create and connect PYS\n",
        "MERGE (pys:PYS {name: 'PYS'})\n",
        "MERGE (knowledge)-[:HAS_SOURCE]->(pys)\n",
        "\n",
        "// Create and connect GITA\n",
        "MERGE (gita:GITA {name: 'GITA'})\n",
        "MERGE (knowledge)-[:HAS_SOURCE]->(gita)\n",
        "\"\"\"\n"
      ],
      "metadata": {
        "id": "d5RFyAS_rUeT"
      },
      "execution_count": 73,
      "outputs": []
    },
    {
      "cell_type": "code",
      "source": [
        "graph.query(query)"
      ],
      "metadata": {
        "colab": {
          "base_uri": "https://localhost:8080/"
        },
        "id": "24QL6syIror3",
        "outputId": "ffb43c5f-f4e6-48bb-cee7-38cb31ffcf23"
      },
      "execution_count": 74,
      "outputs": [
        {
          "output_type": "execute_result",
          "data": {
            "text/plain": [
              "[]"
            ]
          },
          "metadata": {},
          "execution_count": 74
        }
      ]
    },
    {
      "cell_type": "code",
      "source": [
        "\n",
        "query = \"\"\"\n",
        "LOAD CSV WITH HEADERS FROM 'https://raw.githubusercontent.com/parth1609/RAGveda/main/dataset/Gita_questions.csv' AS row\n",
        "WITH row\n",
        "WHERE row.chapter IS NOT NULL AND row.chapter <> ''\n",
        "  AND row.verse IS NOT NULL AND row.verse <> ''\n",
        "\n",
        "// Ensure the Knowledge node exists\n",
        "MERGE (knowledge:Knowledge {name: 'Knowledge'})\n",
        "\n",
        "// Create the GITA label and connect it to Knowledge\n",
        "MERGE (gita:GITA {name: 'GITA'})\n",
        "MERGE (knowledge)-[:HAS_SOURCE]->(gita)\n",
        "\n",
        "// Create and relate Chapter nodes\n",
        "MERGE (chapter:GITAChapter {number: toInteger(row.chapter)})\n",
        "MERGE (gita)-[:HAS_CHAPTER]->(chapter)\n",
        "\n",
        "// Create and relate Verse nodes\n",
        "MERGE (verse:GITAVerse {number: toInteger(row.verse), chapterNumber: toInteger(row.chapter)})\n",
        "MERGE (chapter)-[:HAS_VERSE]->(verse)\n",
        "\n",
        "// Relate Sanskrit text to Verse\n",
        "MERGE (shloka:GITASanskrit {text: row.sanskrit})\n",
        "MERGE (verse)-[:HAS_SHLOKA]->(shloka)\n",
        "\n",
        "// Create Translation node and relate it to Sanskrit Shloka and Verse\n",
        "MERGE (translation:GITATranslation {text: row.translation})\n",
        "MERGE (shloka)-[:HAS_TRANSLATION]->(translation)\n",
        "MERGE (verse)-[:HAS_TRANSLATION]->(translation)\n",
        "\n",
        "// Create Question node and ensure proper relationships\n",
        "MERGE (question:GITAQuestion {text: row.question})\n",
        "MERGE (question)-[:ABOUT_VERSE]->(verse)\n",
        "MERGE (question)-[:ABOUT_TRANSLATION]->(translation)\n",
        "MERGE (question)-[:ABOUT_SHLOKA]->(shloka)\n",
        "\n",
        "\n",
        "\n",
        "\"\"\"\n"
      ],
      "metadata": {
        "id": "M_j_fJ9v08J1"
      },
      "execution_count": 75,
      "outputs": []
    },
    {
      "cell_type": "code",
      "source": [
        "graph.query(query)"
      ],
      "metadata": {
        "colab": {
          "base_uri": "https://localhost:8080/"
        },
        "id": "J5uKJjaI_JjL",
        "outputId": "e23becc5-b72f-422f-8020-036e8186f5ae"
      },
      "execution_count": 77,
      "outputs": [
        {
          "output_type": "execute_result",
          "data": {
            "text/plain": [
              "[]"
            ]
          },
          "metadata": {},
          "execution_count": 77
        }
      ]
    },
    {
      "cell_type": "code",
      "source": [
        "query=\"\"\"\n",
        "LOAD CSV WITH HEADERS FROM 'https://raw.githubusercontent.com/parth1609/RAGveda/main/dataset/PYS_English_Questions.csv' AS row\n",
        "WITH row\n",
        "WHERE row.chapter IS NOT NULL AND row.chapter <> ''\n",
        "  AND row.verse IS NOT NULL AND row.verse <> ''\n",
        "\n",
        "// Ensure the Knowledge node exists\n",
        "MERGE (knowledge:Knowledge {name: 'Knowledge'})\n",
        "\n",
        "// Create the PYS label and connect it to Knowledge\n",
        "MERGE (pys:PYS {name: 'PYS'})\n",
        "MERGE (knowledge)-[:HAS_SOURCE]->(pys)\n",
        "\n",
        "// Create Chapter node and relate it to PYS\n",
        "MERGE (chapter:PYSChapter {number: toInteger(row.chapter)})\n",
        "MERGE (pys)-[:HAS_CHAPTER]->(chapter)\n",
        "\n",
        "// Create Verse node and relate it to Chapter\n",
        "MERGE (verse:PYSVerse {number: toInteger(row.verse), chapterNumber: toInteger(row.chapter)})\n",
        "MERGE (chapter)-[:HAS_VERSE]->(verse)\n",
        "\n",
        "// Relate Sanskrit text to Verse\n",
        "MERGE (shloka:PYSSanskrit {text: row.sanskrit})\n",
        "MERGE (verse)-[:HAS_SHLOKA]->(shloka)\n",
        "\n",
        "// Create Translation node and relate it to Sanskrit Shloka and Verse\n",
        "MERGE (translation:PYSTranslation {text: row.translation})\n",
        "MERGE (shloka)-[:HAS_TRANSLATION]->(translation)\n",
        "MERGE (verse)-[:HAS_TRANSLATION]->(translation)\n",
        "\n",
        "// Create Question node and ensure proper relationships\n",
        "MERGE (question:PYSQuestion {text: row.question})\n",
        "MERGE (question)-[:ABOUT_VERSE]->(verse)\n",
        "MERGE (question)-[:ABOUT_TRANSLATION]->(translation)\n",
        "MERGE (question)-[:ABOUT_SHLOKA]->(shloka)\n",
        "\n",
        "\n",
        "\"\"\""
      ],
      "metadata": {
        "id": "Dhf78IbG6rvG"
      },
      "execution_count": 78,
      "outputs": []
    },
    {
      "cell_type": "code",
      "source": [
        "graph.query(query)"
      ],
      "metadata": {
        "colab": {
          "base_uri": "https://localhost:8080/"
        },
        "id": "WmcsnV-C7-WG",
        "outputId": "813c3652-ba30-4b5f-9566-a89c8488896a"
      },
      "execution_count": 79,
      "outputs": [
        {
          "output_type": "execute_result",
          "data": {
            "text/plain": [
              "[]"
            ]
          },
          "metadata": {},
          "execution_count": 79
        }
      ]
    },
    {
      "cell_type": "code",
      "source": [
        "graph.refresh_schema()\n",
        "print(graph.schema)"
      ],
      "metadata": {
        "id": "eyOS-aiE_Mfw",
        "colab": {
          "base_uri": "https://localhost:8080/"
        },
        "outputId": "d54ba132-4a47-44b3-da40-43696fd33f4a"
      },
      "execution_count": 80,
      "outputs": [
        {
          "output_type": "stream",
          "name": "stdout",
          "text": [
            "Node properties:\n",
            "Knowledge {name: STRING}\n",
            "PYS {name: STRING}\n",
            "GITA {name: STRING}\n",
            "GITAChapter {number: INTEGER}\n",
            "GITAVerse {number: INTEGER, chapterNumber: INTEGER}\n",
            "GITASanskrit {text: STRING}\n",
            "GITATranslation {text: STRING}\n",
            "GITAQuestion {text: STRING}\n",
            "PYSChapter {number: INTEGER}\n",
            "PYSVerse {number: INTEGER, chapterNumber: INTEGER}\n",
            "PYSSanskrit {text: STRING}\n",
            "PYSTranslation {text: STRING}\n",
            "PYSQuestion {text: STRING}\n",
            "Relationship properties:\n",
            "\n",
            "The relationships:\n",
            "(:Knowledge)-[:HAS_SOURCE]->(:PYS)\n",
            "(:Knowledge)-[:HAS_SOURCE]->(:GITA)\n",
            "(:PYS)-[:HAS_CHAPTER]->(:PYSChapter)\n",
            "(:GITA)-[:HAS_CHAPTER]->(:GITAChapter)\n",
            "(:GITAChapter)-[:HAS_VERSE]->(:GITAVerse)\n",
            "(:GITAVerse)-[:HAS_SHLOKA]->(:GITASanskrit)\n",
            "(:GITAVerse)-[:HAS_TRANSLATION]->(:GITATranslation)\n",
            "(:GITASanskrit)-[:HAS_TRANSLATION]->(:GITATranslation)\n",
            "(:GITAQuestion)-[:ABOUT_VERSE]->(:GITAVerse)\n",
            "(:GITAQuestion)-[:ABOUT_TRANSLATION]->(:GITATranslation)\n",
            "(:GITAQuestion)-[:ABOUT_SHLOKA]->(:GITASanskrit)\n",
            "(:PYSChapter)-[:HAS_VERSE]->(:PYSVerse)\n",
            "(:PYSVerse)-[:HAS_SHLOKA]->(:PYSSanskrit)\n",
            "(:PYSVerse)-[:HAS_TRANSLATION]->(:PYSTranslation)\n",
            "(:PYSSanskrit)-[:HAS_TRANSLATION]->(:PYSTranslation)\n",
            "(:PYSQuestion)-[:ABOUT_VERSE]->(:PYSVerse)\n",
            "(:PYSQuestion)-[:ABOUT_TRANSLATION]->(:PYSTranslation)\n",
            "(:PYSQuestion)-[:ABOUT_SHLOKA]->(:PYSSanskrit)\n"
          ]
        }
      ]
    },
    {
      "cell_type": "code",
      "source": [
        "pip install -U --quiet langchain-nvidia-ai-endpoints"
      ],
      "metadata": {
        "id": "is0QbxN5MxNQ"
      },
      "execution_count": 81,
      "outputs": []
    },
    {
      "cell_type": "code",
      "source": [
        "from langchain_nvidia_ai_endpoints import ChatNVIDIA\n",
        "\n",
        "llm = ChatNVIDIA(\n",
        "  model=\"meta/llama-3.1-70b-instruct\",\n",
        "  api_key=NVIDIA_API_KEY,\n",
        "\n",
        ")\n"
      ],
      "metadata": {
        "id": "YV3OGrHmMx3e"
      },
      "execution_count": 82,
      "outputs": []
    },
    {
      "cell_type": "code",
      "source": [
        "%pip install -qU langchain-groq"
      ],
      "metadata": {
        "id": "HVNcPGVR86qu"
      },
      "execution_count": 83,
      "outputs": []
    },
    {
      "cell_type": "code",
      "source": [
        "from langchain.chains import GraphCypherQAChain\n",
        "chain = GraphCypherQAChain.from_llm(llm=llm, graph=graph, verbose=True, allow_dangerous_requests=True)\n",
        "\n"
      ],
      "metadata": {
        "id": "W68mP0Br9FMz"
      },
      "execution_count": 84,
      "outputs": []
    },
    {
      "cell_type": "code",
      "source": [
        "question = \"Who was the king from Kashi who fought in the Mahabharata war?\"\n",
        "sanskritShloka = \"सर्वस्य चाहं हृदि सन्निविष्टो मत्तः स्मृतिर्ज्ञानमपोहनं च| वेदैश्च सर्वैरहमेव वेद्यो वेदान्तकृद्वेदविदेव चाहम् || 15.15 || \"\n",
        "speaker = \"भगवान\"\n",
        "\n",
        "try:\n",
        "    response = chain.invoke({\"query\": f\"I have this '{question}'. please give about shloka from 'Gita' or 'Pys' particular chapter , along with its structure as[shloka,tranlation], or state that no relevant information exists`\"})\n",
        "    print(response)  # Or display response in a suitable way for your notebook\n",
        "except Exception as e:\n",
        "    print(f\"Error: {e}\") # printing the error that has occurred\n",
        "    print(f\"No relevant information found for the question: {question}\")"
      ],
      "metadata": {
        "colab": {
          "base_uri": "https://localhost:8080/"
        },
        "id": "hYFFB9w49Ggd",
        "outputId": "81a92e34-2183-4fce-933a-c9607d320f83"
      },
      "execution_count": 94,
      "outputs": [
        {
          "output_type": "stream",
          "name": "stdout",
          "text": [
            "\n",
            "\n",
            "\u001b[1m> Entering new GraphCypherQAChain chain...\u001b[0m\n",
            "Generated Cypher:\n",
            "\u001b[32;1m\u001b[1;3m\n",
            "MATCH (q:GITAQuestion {text: \"Who was the king from Kashi who fought in the Mahabharata war?\"})-[:ABOUT_VERSE]->(v:GITAVerse)-[:HAS_SHLOKA]->(s:GITASanskrit)-[:HAS_TRANSLATION]->(t:GITATranslation)\n",
            "OPTIONAL MATCH (q)-[:ABOUT_SHLOKA]->(s2:GITASanskrit)-[:HAS_TRANSLATION]->(t2:GITATranslation)\n",
            "RETURN [[s.text, t.text]] as result\n",
            "UNION\n",
            "MATCH (q:PYSQuestion {text: \"Who was the king from Kashi who fought in the Mahabharata war?\"})-[:ABOUT_VERSE]->(v:PYSVerse)-[:HAS_SHLOKA]->(s:PYSSanskrit)-[:HAS_TRANSLATION]->(t:PYSTranslation)\n",
            "OPTIONAL MATCH (q)-[:ABOUT_SHLOKA]->(s2:PYSSanskrit)-[:HAS_TRANSLATION]->(t2:PYSTranslation)\n",
            "RETURN [[s.text, t.text]] as result\n",
            "\u001b[0m\n",
            "Full Context:\n",
            "\u001b[32;1m\u001b[1;3m[{'result': [['धृष्टकेतुश्चेकितानः काशिराजश्च वीर्यवान्| पुरुजित्कुन्तिभोजश्च शैब्यश्च नरपुङ्गवः  || 1.5 || ', 'Dhrishtaketu, Chekitana, the valiant king of Kasi, Purujit, Kuntibhoja, and Saibya—the best of men.']]}]\u001b[0m\n",
            "\n",
            "\u001b[1m> Finished chain.\u001b[0m\n",
            "{'query': \"I have this 'Who was the king from Kashi who fought in the Mahabharata war?'. please give about shloka from 'Gita' or 'Pys' particular chapter , along with its structure as[shloka,tranlation], or state that no relevant information exists`\", 'result': \"According to the Mahabharata, the valiant king from Kasi who fought in the war was: \\n\\n king of Kasi.\\n \\n[धृष्टकेतुश्चेकितानः काशिराजश्च वीर्यवान्| पुरुजित्कुन्तिभोजश्च शैब्यश्च नरपुङ्गवः  || 1.5 || ', 'Dhrishtaketu, Chekitana, the valiant king of Kasi, Purujit, Kuntibhoja, and Saibya—the best of men.']\"}\n"
          ]
        }
      ]
    },
    {
      "cell_type": "code",
      "source": [],
      "metadata": {
        "id": "Mk0v7TAWMN01"
      },
      "execution_count": null,
      "outputs": []
    }
  ]
}