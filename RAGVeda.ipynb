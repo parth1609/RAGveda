{
  "cells": [
    {
      "cell_type": "code",
      "execution_count": 1,
      "metadata": {
        "colab": {
          "base_uri": "https://localhost:8080/"
        },
        "id": "qBbEDSrGoAMU",
        "outputId": "0eec0aff-b3b0-496b-cee0-eddb062bcaf3"
      },
      "outputs": [
        {
          "name": "stdout",
          "output_type": "stream",
          "text": [
            "Note: you may need to restart the kernel to use updated packages.\n"
          ]
        }
      ],
      "source": [
        "pip install --upgrade --quiet   langchain-community langchain-groq neo4j python-dotenv langchain-neo4j"
      ]
    },
    {
      "cell_type": "code",
      "execution_count": 8,
      "metadata": {
        "id": "_XoQHCbrvgPN"
      },
      "outputs": [
        {
          "name": "stdout",
          "output_type": "stream",
          "text": [
            "neo4j+s://5b9542e8.databases.neo4j.io\n"
          ]
        }
      ],
      "source": [
        "import os\n",
        "from dotenv import load_dotenv\n",
        "load_dotenv()\n",
        "\n",
        "# Access the credentials\n",
        "NEO4J_URI = {os.getenv(\"NEO4J_URI\")}\n",
        "NEO4J_USERNAME = os.getenv(\"NEO4J_USERNAME\")\n",
        "NEO4J_PASSWORD = os.getenv(\"NEO4J_PASSWORD\")\n",
        "GROQ_API_KEY = os.getenv(\"GROQ_API_KEY\")\n",
        "print(NEO4J_URI)\n"
      ]
    },
    {
      "cell_type": "code",
      "execution_count": 2,
      "metadata": {
        "id": "zKI-16Llvx6u"
      },
      "outputs": [],
      "source": [
        "import os\n",
        "\n",
        "\n",
        "os.environ[\"NEO4J_URI\"] = NEO4J_URI\n",
        "os.environ[\"NEO4J_USERNAME\"] = NEO4J_USERNAME\n",
        "os.environ[\"NEO4J_PASSWORD\"] = NEO4J_PASSWORD\n",
        "os.environ[\"GROQ_API_KEY\"] = NEO4J_PASSWORD\n",
        "\n"
      ]
    },
    {
      "cell_type": "code",
      "execution_count": 3,
      "metadata": {},
      "outputs": [
        {
          "name": "stdout",
          "output_type": "stream",
          "text": [
            "Requirement already satisfied: langchain_neo4j in c:\\users\\parth\\onedrive\\desktop\\one\\ragveda\\my_env\\lib\\site-packages (0.2.0)\n",
            "Requirement already satisfied: langchain<0.4.0,>=0.3.7 in c:\\users\\parth\\onedrive\\desktop\\one\\ragveda\\my_env\\lib\\site-packages (from langchain_neo4j) (0.3.14)\n",
            "Requirement already satisfied: langchain-core<0.4.0,>=0.3.8 in c:\\users\\parth\\onedrive\\desktop\\one\\ragveda\\my_env\\lib\\site-packages (from langchain_neo4j) (0.3.29)\n",
            "Requirement already satisfied: neo4j<6.0.0,>=5.25.0 in c:\\users\\parth\\onedrive\\desktop\\one\\ragveda\\my_env\\lib\\site-packages (from langchain_neo4j) (5.27.0)\n",
            "Requirement already satisfied: PyYAML>=5.3 in c:\\users\\parth\\onedrive\\desktop\\one\\ragveda\\my_env\\lib\\site-packages (from langchain<0.4.0,>=0.3.7->langchain_neo4j) (6.0.2)\n",
            "Requirement already satisfied: SQLAlchemy<3,>=1.4 in c:\\users\\parth\\onedrive\\desktop\\one\\ragveda\\my_env\\lib\\site-packages (from langchain<0.4.0,>=0.3.7->langchain_neo4j) (2.0.36)\n",
            "Requirement already satisfied: aiohttp<4.0.0,>=3.8.3 in c:\\users\\parth\\onedrive\\desktop\\one\\ragveda\\my_env\\lib\\site-packages (from langchain<0.4.0,>=0.3.7->langchain_neo4j) (3.11.11)\n",
            "Requirement already satisfied: langchain-text-splitters<0.4.0,>=0.3.3 in c:\\users\\parth\\onedrive\\desktop\\one\\ragveda\\my_env\\lib\\site-packages (from langchain<0.4.0,>=0.3.7->langchain_neo4j) (0.3.4)\n",
            "Requirement already satisfied: langsmith<0.3,>=0.1.17 in c:\\users\\parth\\onedrive\\desktop\\one\\ragveda\\my_env\\lib\\site-packages (from langchain<0.4.0,>=0.3.7->langchain_neo4j) (0.2.4)\n",
            "Requirement already satisfied: numpy<3,>=1.26.2 in c:\\users\\parth\\onedrive\\desktop\\one\\ragveda\\my_env\\lib\\site-packages (from langchain<0.4.0,>=0.3.7->langchain_neo4j) (2.2.1)\n",
            "Requirement already satisfied: pydantic<3.0.0,>=2.7.4 in c:\\users\\parth\\onedrive\\desktop\\one\\ragveda\\my_env\\lib\\site-packages (from langchain<0.4.0,>=0.3.7->langchain_neo4j) (2.10.4)\n",
            "Requirement already satisfied: requests<3,>=2 in c:\\users\\parth\\onedrive\\desktop\\one\\ragveda\\my_env\\lib\\site-packages (from langchain<0.4.0,>=0.3.7->langchain_neo4j) (2.32.3)\n",
            "Requirement already satisfied: tenacity!=8.4.0,<10,>=8.1.0 in c:\\users\\parth\\onedrive\\desktop\\one\\ragveda\\my_env\\lib\\site-packages (from langchain<0.4.0,>=0.3.7->langchain_neo4j) (9.0.0)\n",
            "Requirement already satisfied: jsonpatch<2.0,>=1.33 in c:\\users\\parth\\onedrive\\desktop\\one\\ragveda\\my_env\\lib\\site-packages (from langchain-core<0.4.0,>=0.3.8->langchain_neo4j) (1.33)\n",
            "Requirement already satisfied: packaging<25,>=23.2 in c:\\users\\parth\\onedrive\\desktop\\one\\ragveda\\my_env\\lib\\site-packages (from langchain-core<0.4.0,>=0.3.8->langchain_neo4j) (24.2)\n",
            "Requirement already satisfied: typing-extensions>=4.7 in c:\\users\\parth\\onedrive\\desktop\\one\\ragveda\\my_env\\lib\\site-packages (from langchain-core<0.4.0,>=0.3.8->langchain_neo4j) (4.12.2)\n",
            "Requirement already satisfied: pytz in c:\\users\\parth\\onedrive\\desktop\\one\\ragveda\\my_env\\lib\\site-packages (from neo4j<6.0.0,>=5.25.0->langchain_neo4j) (2024.2)\n",
            "Requirement already satisfied: aiohappyeyeballs>=2.3.0 in c:\\users\\parth\\onedrive\\desktop\\one\\ragveda\\my_env\\lib\\site-packages (from aiohttp<4.0.0,>=3.8.3->langchain<0.4.0,>=0.3.7->langchain_neo4j) (2.4.4)\n",
            "Requirement already satisfied: aiosignal>=1.1.2 in c:\\users\\parth\\onedrive\\desktop\\one\\ragveda\\my_env\\lib\\site-packages (from aiohttp<4.0.0,>=3.8.3->langchain<0.4.0,>=0.3.7->langchain_neo4j) (1.3.2)\n",
            "Requirement already satisfied: attrs>=17.3.0 in c:\\users\\parth\\onedrive\\desktop\\one\\ragveda\\my_env\\lib\\site-packages (from aiohttp<4.0.0,>=3.8.3->langchain<0.4.0,>=0.3.7->langchain_neo4j) (24.3.0)\n",
            "Requirement already satisfied: frozenlist>=1.1.1 in c:\\users\\parth\\onedrive\\desktop\\one\\ragveda\\my_env\\lib\\site-packages (from aiohttp<4.0.0,>=3.8.3->langchain<0.4.0,>=0.3.7->langchain_neo4j) (1.5.0)\n",
            "Requirement already satisfied: multidict<7.0,>=4.5 in c:\\users\\parth\\onedrive\\desktop\\one\\ragveda\\my_env\\lib\\site-packages (from aiohttp<4.0.0,>=3.8.3->langchain<0.4.0,>=0.3.7->langchain_neo4j) (6.1.0)\n",
            "Requirement already satisfied: propcache>=0.2.0 in c:\\users\\parth\\onedrive\\desktop\\one\\ragveda\\my_env\\lib\\site-packages (from aiohttp<4.0.0,>=3.8.3->langchain<0.4.0,>=0.3.7->langchain_neo4j) (0.2.1)\n",
            "Requirement already satisfied: yarl<2.0,>=1.17.0 in c:\\users\\parth\\onedrive\\desktop\\one\\ragveda\\my_env\\lib\\site-packages (from aiohttp<4.0.0,>=3.8.3->langchain<0.4.0,>=0.3.7->langchain_neo4j) (1.18.3)\n",
            "Requirement already satisfied: jsonpointer>=1.9 in c:\\users\\parth\\onedrive\\desktop\\one\\ragveda\\my_env\\lib\\site-packages (from jsonpatch<2.0,>=1.33->langchain-core<0.4.0,>=0.3.8->langchain_neo4j) (3.0.0)\n",
            "Requirement already satisfied: httpx<1,>=0.23.0 in c:\\users\\parth\\onedrive\\desktop\\one\\ragveda\\my_env\\lib\\site-packages (from langsmith<0.3,>=0.1.17->langchain<0.4.0,>=0.3.7->langchain_neo4j) (0.27.2)\n",
            "Requirement already satisfied: orjson<4.0.0,>=3.9.14 in c:\\users\\parth\\onedrive\\desktop\\one\\ragveda\\my_env\\lib\\site-packages (from langsmith<0.3,>=0.1.17->langchain<0.4.0,>=0.3.7->langchain_neo4j) (3.10.12)\n",
            "Requirement already satisfied: requests-toolbelt<2.0.0,>=1.0.0 in c:\\users\\parth\\onedrive\\desktop\\one\\ragveda\\my_env\\lib\\site-packages (from langsmith<0.3,>=0.1.17->langchain<0.4.0,>=0.3.7->langchain_neo4j) (1.0.0)\n",
            "Requirement already satisfied: annotated-types>=0.6.0 in c:\\users\\parth\\onedrive\\desktop\\one\\ragveda\\my_env\\lib\\site-packages (from pydantic<3.0.0,>=2.7.4->langchain<0.4.0,>=0.3.7->langchain_neo4j) (0.7.0)\n",
            "Requirement already satisfied: pydantic-core==2.27.2 in c:\\users\\parth\\onedrive\\desktop\\one\\ragveda\\my_env\\lib\\site-packages (from pydantic<3.0.0,>=2.7.4->langchain<0.4.0,>=0.3.7->langchain_neo4j) (2.27.2)\n",
            "Requirement already satisfied: charset-normalizer<4,>=2 in c:\\users\\parth\\onedrive\\desktop\\one\\ragveda\\my_env\\lib\\site-packages (from requests<3,>=2->langchain<0.4.0,>=0.3.7->langchain_neo4j) (3.4.0)\n",
            "Requirement already satisfied: idna<4,>=2.5 in c:\\users\\parth\\onedrive\\desktop\\one\\ragveda\\my_env\\lib\\site-packages (from requests<3,>=2->langchain<0.4.0,>=0.3.7->langchain_neo4j) (3.10)\n",
            "Requirement already satisfied: urllib3<3,>=1.21.1 in c:\\users\\parth\\onedrive\\desktop\\one\\ragveda\\my_env\\lib\\site-packages (from requests<3,>=2->langchain<0.4.0,>=0.3.7->langchain_neo4j) (2.3.0)\n",
            "Requirement already satisfied: certifi>=2017.4.17 in c:\\users\\parth\\onedrive\\desktop\\one\\ragveda\\my_env\\lib\\site-packages (from requests<3,>=2->langchain<0.4.0,>=0.3.7->langchain_neo4j) (2024.12.14)\n",
            "Requirement already satisfied: greenlet!=0.4.17 in c:\\users\\parth\\onedrive\\desktop\\one\\ragveda\\my_env\\lib\\site-packages (from SQLAlchemy<3,>=1.4->langchain<0.4.0,>=0.3.7->langchain_neo4j) (3.1.1)\n",
            "Requirement already satisfied: anyio in c:\\users\\parth\\onedrive\\desktop\\one\\ragveda\\my_env\\lib\\site-packages (from httpx<1,>=0.23.0->langsmith<0.3,>=0.1.17->langchain<0.4.0,>=0.3.7->langchain_neo4j) (4.7.0)\n",
            "Requirement already satisfied: httpcore==1.* in c:\\users\\parth\\onedrive\\desktop\\one\\ragveda\\my_env\\lib\\site-packages (from httpx<1,>=0.23.0->langsmith<0.3,>=0.1.17->langchain<0.4.0,>=0.3.7->langchain_neo4j) (1.0.7)\n",
            "Requirement already satisfied: sniffio in c:\\users\\parth\\onedrive\\desktop\\one\\ragveda\\my_env\\lib\\site-packages (from httpx<1,>=0.23.0->langsmith<0.3,>=0.1.17->langchain<0.4.0,>=0.3.7->langchain_neo4j) (1.3.1)\n",
            "Requirement already satisfied: h11<0.15,>=0.13 in c:\\users\\parth\\onedrive\\desktop\\one\\ragveda\\my_env\\lib\\site-packages (from httpcore==1.*->httpx<1,>=0.23.0->langsmith<0.3,>=0.1.17->langchain<0.4.0,>=0.3.7->langchain_neo4j) (0.14.0)\n",
            "Note: you may need to restart the kernel to use updated packages.\n"
          ]
        }
      ],
      "source": [
        "pip install langchain_neo4j"
      ]
    },
    {
      "cell_type": "code",
      "execution_count": 7,
      "metadata": {
        "colab": {
          "base_uri": "https://localhost:8080/"
        },
        "id": "bkX-eIWPrWm3",
        "outputId": "09b84b8b-aa18-4814-9cf1-394207eb8bdd"
      },
      "outputs": [
        {
          "name": "stdout",
          "output_type": "stream",
          "text": [
            "neo4j+s://5b9542e8.databases.neo4j.io\n"
          ]
        },
        {
          "name": "stderr",
          "output_type": "stream",
          "text": [
            "Unable to retrieve routing information\n"
          ]
        },
        {
          "ename": "ValueError",
          "evalue": "Could not connect to Neo4j database. Please ensure that the url is correct",
          "output_type": "error",
          "traceback": [
            "\u001b[1;31m---------------------------------------------------------------------------\u001b[0m",
            "\u001b[1;31mServiceUnavailable\u001b[0m                        Traceback (most recent call last)",
            "File \u001b[1;32mc:\\Users\\parth\\OneDrive\\Desktop\\one\\RAGveda\\my_env\\Lib\\site-packages\\langchain_community\\graphs\\neo4j_graph.py:415\u001b[0m, in \u001b[0;36mNeo4jGraph.__init__\u001b[1;34m(self, url, username, password, database, timeout, sanitize, refresh_schema, driver_config, enhanced_schema)\u001b[0m\n\u001b[0;32m    414\u001b[0m \u001b[38;5;28;01mtry\u001b[39;00m:\n\u001b[1;32m--> 415\u001b[0m     \u001b[38;5;28;43mself\u001b[39;49m\u001b[38;5;241;43m.\u001b[39;49m\u001b[43m_driver\u001b[49m\u001b[38;5;241;43m.\u001b[39;49m\u001b[43mverify_connectivity\u001b[49m\u001b[43m(\u001b[49m\u001b[43m)\u001b[49m\n\u001b[0;32m    416\u001b[0m \u001b[38;5;28;01mexcept\u001b[39;00m neo4j\u001b[38;5;241m.\u001b[39mexceptions\u001b[38;5;241m.\u001b[39mServiceUnavailable:\n",
            "File \u001b[1;32mc:\\Users\\parth\\OneDrive\\Desktop\\one\\RAGveda\\my_env\\Lib\\site-packages\\neo4j\\_sync\\driver.py:1081\u001b[0m, in \u001b[0;36mDriver.verify_connectivity\u001b[1;34m(self, **config)\u001b[0m\n\u001b[0;32m   1080\u001b[0m session_config \u001b[38;5;241m=\u001b[39m \u001b[38;5;28mself\u001b[39m\u001b[38;5;241m.\u001b[39m_read_session_config(config)\n\u001b[1;32m-> 1081\u001b[0m \u001b[38;5;28;43mself\u001b[39;49m\u001b[38;5;241;43m.\u001b[39;49m\u001b[43m_get_server_info\u001b[49m\u001b[43m(\u001b[49m\u001b[43msession_config\u001b[49m\u001b[43m)\u001b[49m\n",
            "File \u001b[1;32mc:\\Users\\parth\\OneDrive\\Desktop\\one\\RAGveda\\my_env\\Lib\\site-packages\\neo4j\\_sync\\driver.py:1296\u001b[0m, in \u001b[0;36mDriver._get_server_info\u001b[1;34m(self, session_config)\u001b[0m\n\u001b[0;32m   1295\u001b[0m \u001b[38;5;28;01mwith\u001b[39;00m \u001b[38;5;28mself\u001b[39m\u001b[38;5;241m.\u001b[39m_session(session_config) \u001b[38;5;28;01mas\u001b[39;00m session:\n\u001b[1;32m-> 1296\u001b[0m     \u001b[38;5;28;01mreturn\u001b[39;00m \u001b[43msession\u001b[49m\u001b[38;5;241;43m.\u001b[39;49m\u001b[43m_get_server_info\u001b[49m\u001b[43m(\u001b[49m\u001b[43m)\u001b[49m\n",
            "File \u001b[1;32mc:\\Users\\parth\\OneDrive\\Desktop\\one\\RAGveda\\my_env\\Lib\\site-packages\\neo4j\\_sync\\work\\session.py:183\u001b[0m, in \u001b[0;36mSession._get_server_info\u001b[1;34m(self)\u001b[0m\n\u001b[0;32m    182\u001b[0m \u001b[38;5;28;01massert\u001b[39;00m \u001b[38;5;129;01mnot\u001b[39;00m \u001b[38;5;28mself\u001b[39m\u001b[38;5;241m.\u001b[39m_connection\n\u001b[1;32m--> 183\u001b[0m \u001b[38;5;28;43mself\u001b[39;49m\u001b[38;5;241;43m.\u001b[39;49m\u001b[43m_connect\u001b[49m\u001b[43m(\u001b[49m\u001b[43mREAD_ACCESS\u001b[49m\u001b[43m,\u001b[49m\u001b[43m \u001b[49m\u001b[43mliveness_check_timeout\u001b[49m\u001b[38;5;241;43m=\u001b[39;49m\u001b[38;5;241;43m0\u001b[39;49m\u001b[43m)\u001b[49m\n\u001b[0;32m    184\u001b[0m server_info \u001b[38;5;241m=\u001b[39m \u001b[38;5;28mself\u001b[39m\u001b[38;5;241m.\u001b[39m_connection\u001b[38;5;241m.\u001b[39mserver_info\n",
            "File \u001b[1;32mc:\\Users\\parth\\OneDrive\\Desktop\\one\\RAGveda\\my_env\\Lib\\site-packages\\neo4j\\_sync\\work\\session.py:136\u001b[0m, in \u001b[0;36mSession._connect\u001b[1;34m(self, access_mode, **acquire_kwargs)\u001b[0m\n\u001b[0;32m    135\u001b[0m \u001b[38;5;28;01mtry\u001b[39;00m:\n\u001b[1;32m--> 136\u001b[0m     \u001b[38;5;28;43msuper\u001b[39;49m\u001b[43m(\u001b[49m\u001b[43m)\u001b[49m\u001b[38;5;241;43m.\u001b[39;49m\u001b[43m_connect\u001b[49m\u001b[43m(\u001b[49m\n\u001b[0;32m    137\u001b[0m \u001b[43m        \u001b[49m\u001b[43maccess_mode\u001b[49m\u001b[43m,\u001b[49m\u001b[43m \u001b[49m\u001b[43mauth\u001b[49m\u001b[38;5;241;43m=\u001b[39;49m\u001b[38;5;28;43mself\u001b[39;49m\u001b[38;5;241;43m.\u001b[39;49m\u001b[43m_config\u001b[49m\u001b[38;5;241;43m.\u001b[39;49m\u001b[43mauth\u001b[49m\u001b[43m,\u001b[49m\u001b[43m \u001b[49m\u001b[38;5;241;43m*\u001b[39;49m\u001b[38;5;241;43m*\u001b[39;49m\u001b[43macquire_kwargs\u001b[49m\n\u001b[0;32m    138\u001b[0m \u001b[43m    \u001b[49m\u001b[43m)\u001b[49m\n\u001b[0;32m    139\u001b[0m \u001b[38;5;28;01mexcept\u001b[39;00m asyncio\u001b[38;5;241m.\u001b[39mCancelledError:\n",
            "File \u001b[1;32mc:\\Users\\parth\\OneDrive\\Desktop\\one\\RAGveda\\my_env\\Lib\\site-packages\\neo4j\\_sync\\work\\workspace.py:167\u001b[0m, in \u001b[0;36mWorkspace._connect\u001b[1;34m(self, access_mode, auth, **acquire_kwargs)\u001b[0m\n\u001b[0;32m    166\u001b[0m         log\u001b[38;5;241m.\u001b[39mdebug(\u001b[38;5;124m\"\u001b[39m\u001b[38;5;124m[#0000]  _: <WORKSPACE> resolve home database\u001b[39m\u001b[38;5;124m\"\u001b[39m)\n\u001b[1;32m--> 167\u001b[0m         \u001b[38;5;28;43mself\u001b[39;49m\u001b[38;5;241;43m.\u001b[39;49m\u001b[43m_pool\u001b[49m\u001b[38;5;241;43m.\u001b[39;49m\u001b[43mupdate_routing_table\u001b[49m\u001b[43m(\u001b[49m\n\u001b[0;32m    168\u001b[0m \u001b[43m            \u001b[49m\u001b[43mdatabase\u001b[49m\u001b[38;5;241;43m=\u001b[39;49m\u001b[38;5;28;43mself\u001b[39;49m\u001b[38;5;241;43m.\u001b[39;49m\u001b[43m_config\u001b[49m\u001b[38;5;241;43m.\u001b[39;49m\u001b[43mdatabase\u001b[49m\u001b[43m,\u001b[49m\n\u001b[0;32m    169\u001b[0m \u001b[43m            \u001b[49m\u001b[43mimp_user\u001b[49m\u001b[38;5;241;43m=\u001b[39;49m\u001b[38;5;28;43mself\u001b[39;49m\u001b[38;5;241;43m.\u001b[39;49m\u001b[43m_config\u001b[49m\u001b[38;5;241;43m.\u001b[39;49m\u001b[43mimpersonated_user\u001b[49m\u001b[43m,\u001b[49m\n\u001b[0;32m    170\u001b[0m \u001b[43m            \u001b[49m\u001b[43mbookmarks\u001b[49m\u001b[38;5;241;43m=\u001b[39;49m\u001b[38;5;28;43mself\u001b[39;49m\u001b[38;5;241;43m.\u001b[39;49m\u001b[43m_get_bookmarks\u001b[49m\u001b[43m(\u001b[49m\u001b[43m)\u001b[49m\u001b[43m,\u001b[49m\n\u001b[0;32m    171\u001b[0m \u001b[43m            \u001b[49m\u001b[43mauth\u001b[49m\u001b[38;5;241;43m=\u001b[39;49m\u001b[43mauth\u001b[49m\u001b[43m,\u001b[49m\n\u001b[0;32m    172\u001b[0m \u001b[43m            \u001b[49m\u001b[43macquisition_timeout\u001b[49m\u001b[38;5;241;43m=\u001b[39;49m\u001b[43macquisition_timeout\u001b[49m\u001b[43m,\u001b[49m\n\u001b[0;32m    173\u001b[0m \u001b[43m            \u001b[49m\u001b[43mdatabase_callback\u001b[49m\u001b[38;5;241;43m=\u001b[39;49m\u001b[38;5;28;43mself\u001b[39;49m\u001b[38;5;241;43m.\u001b[39;49m\u001b[43m_set_cached_database\u001b[49m\u001b[43m,\u001b[49m\n\u001b[0;32m    174\u001b[0m \u001b[43m        \u001b[49m\u001b[43m)\u001b[49m\n\u001b[0;32m    175\u001b[0m acquire_kwargs_ \u001b[38;5;241m=\u001b[39m {\n\u001b[0;32m    176\u001b[0m     \u001b[38;5;124m\"\u001b[39m\u001b[38;5;124maccess_mode\u001b[39m\u001b[38;5;124m\"\u001b[39m: access_mode,\n\u001b[0;32m    177\u001b[0m     \u001b[38;5;124m\"\u001b[39m\u001b[38;5;124mtimeout\u001b[39m\u001b[38;5;124m\"\u001b[39m: acquisition_timeout,\n\u001b[1;32m   (...)\u001b[0m\n\u001b[0;32m    181\u001b[0m     \u001b[38;5;124m\"\u001b[39m\u001b[38;5;124mliveness_check_timeout\u001b[39m\u001b[38;5;124m\"\u001b[39m: \u001b[38;5;28;01mNone\u001b[39;00m,\n\u001b[0;32m    182\u001b[0m }\n",
            "File \u001b[1;32mc:\\Users\\parth\\OneDrive\\Desktop\\one\\RAGveda\\my_env\\Lib\\site-packages\\neo4j\\_sync\\io\\_pool.py:940\u001b[0m, in \u001b[0;36mNeo4jPool.update_routing_table\u001b[1;34m(self, database, imp_user, bookmarks, auth, acquisition_timeout, database_callback)\u001b[0m\n\u001b[0;32m    939\u001b[0m log\u001b[38;5;241m.\u001b[39merror(\u001b[38;5;124m\"\u001b[39m\u001b[38;5;124mUnable to retrieve routing information\u001b[39m\u001b[38;5;124m\"\u001b[39m)\n\u001b[1;32m--> 940\u001b[0m \u001b[38;5;28;01mraise\u001b[39;00m ServiceUnavailable(\u001b[38;5;124m\"\u001b[39m\u001b[38;5;124mUnable to retrieve routing information\u001b[39m\u001b[38;5;124m\"\u001b[39m)\n",
            "\u001b[1;31mServiceUnavailable\u001b[0m: Unable to retrieve routing information",
            "\nDuring handling of the above exception, another exception occurred:\n",
            "\u001b[1;31mValueError\u001b[0m                                Traceback (most recent call last)",
            "Cell \u001b[1;32mIn[7], line 3\u001b[0m\n\u001b[0;32m      1\u001b[0m \u001b[38;5;28;01mfrom\u001b[39;00m \u001b[38;5;21;01mlangchain_community\u001b[39;00m\u001b[38;5;21;01m.\u001b[39;00m\u001b[38;5;21;01mgraphs\u001b[39;00m \u001b[38;5;28;01mimport\u001b[39;00m Neo4jGraph\n\u001b[0;32m      2\u001b[0m \u001b[38;5;28mprint\u001b[39m(\u001b[38;5;28mstr\u001b[39m(NEO4J_URI))\n\u001b[1;32m----> 3\u001b[0m graph\u001b[38;5;241m=\u001b[39m\u001b[43mNeo4jGraph\u001b[49m\u001b[43m(\u001b[49m\n\u001b[0;32m      4\u001b[0m \u001b[43m    \u001b[49m\u001b[43murl\u001b[49m\u001b[38;5;241;43m=\u001b[39;49m\u001b[38;5;28;43mstr\u001b[39;49m\u001b[43m(\u001b[49m\u001b[43mNEO4J_URI\u001b[49m\u001b[43m)\u001b[49m\u001b[43m,\u001b[49m\n\u001b[0;32m      5\u001b[0m \u001b[43m    \u001b[49m\u001b[43musername\u001b[49m\u001b[38;5;241;43m=\u001b[39;49m\u001b[38;5;28;43mstr\u001b[39;49m\u001b[43m(\u001b[49m\u001b[43mNEO4J_USERNAME\u001b[49m\u001b[43m)\u001b[49m\u001b[43m,\u001b[49m\n\u001b[0;32m      6\u001b[0m \u001b[43m    \u001b[49m\u001b[43mpassword\u001b[49m\u001b[38;5;241;43m=\u001b[39;49m\u001b[38;5;28;43mstr\u001b[39;49m\u001b[43m(\u001b[49m\u001b[43mNEO4J_PASSWORD\u001b[49m\u001b[43m)\u001b[49m\u001b[43m,\u001b[49m\n\u001b[0;32m      7\u001b[0m \u001b[43m)\u001b[49m\n\u001b[0;32m      8\u001b[0m graph\n",
            "File \u001b[1;32mc:\\Users\\parth\\OneDrive\\Desktop\\one\\RAGveda\\my_env\\Lib\\site-packages\\langchain_core\\_api\\deprecation.py:216\u001b[0m, in \u001b[0;36mdeprecated.<locals>.deprecate.<locals>.finalize.<locals>.warn_if_direct_instance\u001b[1;34m(self, *args, **kwargs)\u001b[0m\n\u001b[0;32m    214\u001b[0m     warned \u001b[38;5;241m=\u001b[39m \u001b[38;5;28;01mTrue\u001b[39;00m\n\u001b[0;32m    215\u001b[0m     emit_warning()\n\u001b[1;32m--> 216\u001b[0m \u001b[38;5;28;01mreturn\u001b[39;00m \u001b[43mwrapped\u001b[49m\u001b[43m(\u001b[49m\u001b[38;5;28;43mself\u001b[39;49m\u001b[43m,\u001b[49m\u001b[43m \u001b[49m\u001b[38;5;241;43m*\u001b[39;49m\u001b[43margs\u001b[49m\u001b[43m,\u001b[49m\u001b[43m \u001b[49m\u001b[38;5;241;43m*\u001b[39;49m\u001b[38;5;241;43m*\u001b[39;49m\u001b[43mkwargs\u001b[49m\u001b[43m)\u001b[49m\n",
            "File \u001b[1;32mc:\\Users\\parth\\OneDrive\\Desktop\\one\\RAGveda\\my_env\\Lib\\site-packages\\langchain_community\\graphs\\neo4j_graph.py:417\u001b[0m, in \u001b[0;36mNeo4jGraph.__init__\u001b[1;34m(self, url, username, password, database, timeout, sanitize, refresh_schema, driver_config, enhanced_schema)\u001b[0m\n\u001b[0;32m    415\u001b[0m     \u001b[38;5;28mself\u001b[39m\u001b[38;5;241m.\u001b[39m_driver\u001b[38;5;241m.\u001b[39mverify_connectivity()\n\u001b[0;32m    416\u001b[0m \u001b[38;5;28;01mexcept\u001b[39;00m neo4j\u001b[38;5;241m.\u001b[39mexceptions\u001b[38;5;241m.\u001b[39mServiceUnavailable:\n\u001b[1;32m--> 417\u001b[0m     \u001b[38;5;28;01mraise\u001b[39;00m \u001b[38;5;167;01mValueError\u001b[39;00m(\n\u001b[0;32m    418\u001b[0m         \u001b[38;5;124m\"\u001b[39m\u001b[38;5;124mCould not connect to Neo4j database. \u001b[39m\u001b[38;5;124m\"\u001b[39m\n\u001b[0;32m    419\u001b[0m         \u001b[38;5;124m\"\u001b[39m\u001b[38;5;124mPlease ensure that the url is correct\u001b[39m\u001b[38;5;124m\"\u001b[39m\n\u001b[0;32m    420\u001b[0m     )\n\u001b[0;32m    421\u001b[0m \u001b[38;5;28;01mexcept\u001b[39;00m neo4j\u001b[38;5;241m.\u001b[39mexceptions\u001b[38;5;241m.\u001b[39mAuthError:\n\u001b[0;32m    422\u001b[0m     \u001b[38;5;28;01mraise\u001b[39;00m \u001b[38;5;167;01mValueError\u001b[39;00m(\n\u001b[0;32m    423\u001b[0m         \u001b[38;5;124m\"\u001b[39m\u001b[38;5;124mCould not connect to Neo4j database. \u001b[39m\u001b[38;5;124m\"\u001b[39m\n\u001b[0;32m    424\u001b[0m         \u001b[38;5;124m\"\u001b[39m\u001b[38;5;124mPlease ensure that the username and password are correct\u001b[39m\u001b[38;5;124m\"\u001b[39m\n\u001b[0;32m    425\u001b[0m     )\n",
            "\u001b[1;31mValueError\u001b[0m: Could not connect to Neo4j database. Please ensure that the url is correct"
          ]
        }
      ],
      "source": [
        "from langchain_community.graphs import Neo4jGraph\n",
        "print(str(NEO4J_URI))\n",
        "graph=Neo4jGraph(\n",
        "    url=str(NEO4J_URI),\n",
        "    username=str(NEO4J_USERNAME),\n",
        "    password=str(NEO4J_PASSWORD),\n",
        ")\n",
        "graph"
      ]
    },
    {
      "cell_type": "code",
      "execution_count": 5,
      "metadata": {},
      "outputs": [
        {
          "name": "stdout",
          "output_type": "stream",
          "text": [
            "Requirement already satisfied: langchain-ollama in c:\\users\\parth\\onedrive\\desktop\\one\\ragveda\\my_env\\lib\\site-packages (0.2.2)Note: you may need to restart the kernel to use updated packages.\n",
            "\n",
            "Requirement already satisfied: langchain-core<0.4.0,>=0.3.27 in c:\\users\\parth\\onedrive\\desktop\\one\\ragveda\\my_env\\lib\\site-packages (from langchain-ollama) (0.3.28)\n",
            "Requirement already satisfied: ollama<1,>=0.4.4 in c:\\users\\parth\\onedrive\\desktop\\one\\ragveda\\my_env\\lib\\site-packages (from langchain-ollama) (0.4.5)\n",
            "Requirement already satisfied: PyYAML>=5.3 in c:\\users\\parth\\onedrive\\desktop\\one\\ragveda\\my_env\\lib\\site-packages (from langchain-core<0.4.0,>=0.3.27->langchain-ollama) (6.0.2)\n",
            "Requirement already satisfied: jsonpatch<2.0,>=1.33 in c:\\users\\parth\\onedrive\\desktop\\one\\ragveda\\my_env\\lib\\site-packages (from langchain-core<0.4.0,>=0.3.27->langchain-ollama) (1.33)\n",
            "Requirement already satisfied: langsmith<0.3,>=0.1.125 in c:\\users\\parth\\onedrive\\desktop\\one\\ragveda\\my_env\\lib\\site-packages (from langchain-core<0.4.0,>=0.3.27->langchain-ollama) (0.2.4)\n",
            "Requirement already satisfied: packaging<25,>=23.2 in c:\\users\\parth\\onedrive\\desktop\\one\\ragveda\\my_env\\lib\\site-packages (from langchain-core<0.4.0,>=0.3.27->langchain-ollama) (24.2)\n",
            "Requirement already satisfied: pydantic<3.0.0,>=2.7.4 in c:\\users\\parth\\onedrive\\desktop\\one\\ragveda\\my_env\\lib\\site-packages (from langchain-core<0.4.0,>=0.3.27->langchain-ollama) (2.10.4)\n",
            "Requirement already satisfied: tenacity!=8.4.0,<10.0.0,>=8.1.0 in c:\\users\\parth\\onedrive\\desktop\\one\\ragveda\\my_env\\lib\\site-packages (from langchain-core<0.4.0,>=0.3.27->langchain-ollama) (9.0.0)\n",
            "Requirement already satisfied: typing-extensions>=4.7 in c:\\users\\parth\\onedrive\\desktop\\one\\ragveda\\my_env\\lib\\site-packages (from langchain-core<0.4.0,>=0.3.27->langchain-ollama) (4.12.2)\n",
            "Requirement already satisfied: httpx<0.28.0,>=0.27.0 in c:\\users\\parth\\onedrive\\desktop\\one\\ragveda\\my_env\\lib\\site-packages (from ollama<1,>=0.4.4->langchain-ollama) (0.27.2)\n",
            "Requirement already satisfied: anyio in c:\\users\\parth\\onedrive\\desktop\\one\\ragveda\\my_env\\lib\\site-packages (from httpx<0.28.0,>=0.27.0->ollama<1,>=0.4.4->langchain-ollama) (4.7.0)\n",
            "Requirement already satisfied: certifi in c:\\users\\parth\\onedrive\\desktop\\one\\ragveda\\my_env\\lib\\site-packages (from httpx<0.28.0,>=0.27.0->ollama<1,>=0.4.4->langchain-ollama) (2024.12.14)\n",
            "Requirement already satisfied: httpcore==1.* in c:\\users\\parth\\onedrive\\desktop\\one\\ragveda\\my_env\\lib\\site-packages (from httpx<0.28.0,>=0.27.0->ollama<1,>=0.4.4->langchain-ollama) (1.0.7)\n",
            "Requirement already satisfied: idna in c:\\users\\parth\\onedrive\\desktop\\one\\ragveda\\my_env\\lib\\site-packages (from httpx<0.28.0,>=0.27.0->ollama<1,>=0.4.4->langchain-ollama) (3.10)\n",
            "Requirement already satisfied: sniffio in c:\\users\\parth\\onedrive\\desktop\\one\\ragveda\\my_env\\lib\\site-packages (from httpx<0.28.0,>=0.27.0->ollama<1,>=0.4.4->langchain-ollama) (1.3.1)\n",
            "Requirement already satisfied: h11<0.15,>=0.13 in c:\\users\\parth\\onedrive\\desktop\\one\\ragveda\\my_env\\lib\\site-packages (from httpcore==1.*->httpx<0.28.0,>=0.27.0->ollama<1,>=0.4.4->langchain-ollama) (0.14.0)\n",
            "Requirement already satisfied: jsonpointer>=1.9 in c:\\users\\parth\\onedrive\\desktop\\one\\ragveda\\my_env\\lib\\site-packages (from jsonpatch<2.0,>=1.33->langchain-core<0.4.0,>=0.3.27->langchain-ollama) (3.0.0)\n",
            "Requirement already satisfied: orjson<4.0.0,>=3.9.14 in c:\\users\\parth\\onedrive\\desktop\\one\\ragveda\\my_env\\lib\\site-packages (from langsmith<0.3,>=0.1.125->langchain-core<0.4.0,>=0.3.27->langchain-ollama) (3.10.12)\n",
            "Requirement already satisfied: requests<3,>=2 in c:\\users\\parth\\onedrive\\desktop\\one\\ragveda\\my_env\\lib\\site-packages (from langsmith<0.3,>=0.1.125->langchain-core<0.4.0,>=0.3.27->langchain-ollama) (2.32.3)\n",
            "Requirement already satisfied: requests-toolbelt<2.0.0,>=1.0.0 in c:\\users\\parth\\onedrive\\desktop\\one\\ragveda\\my_env\\lib\\site-packages (from langsmith<0.3,>=0.1.125->langchain-core<0.4.0,>=0.3.27->langchain-ollama) (1.0.0)\n",
            "Requirement already satisfied: annotated-types>=0.6.0 in c:\\users\\parth\\onedrive\\desktop\\one\\ragveda\\my_env\\lib\\site-packages (from pydantic<3.0.0,>=2.7.4->langchain-core<0.4.0,>=0.3.27->langchain-ollama) (0.7.0)\n",
            "Requirement already satisfied: pydantic-core==2.27.2 in c:\\users\\parth\\onedrive\\desktop\\one\\ragveda\\my_env\\lib\\site-packages (from pydantic<3.0.0,>=2.7.4->langchain-core<0.4.0,>=0.3.27->langchain-ollama) (2.27.2)\n",
            "Requirement already satisfied: charset-normalizer<4,>=2 in c:\\users\\parth\\onedrive\\desktop\\one\\ragveda\\my_env\\lib\\site-packages (from requests<3,>=2->langsmith<0.3,>=0.1.125->langchain-core<0.4.0,>=0.3.27->langchain-ollama) (3.4.0)\n",
            "Requirement already satisfied: urllib3<3,>=1.21.1 in c:\\users\\parth\\onedrive\\desktop\\one\\ragveda\\my_env\\lib\\site-packages (from requests<3,>=2->langsmith<0.3,>=0.1.125->langchain-core<0.4.0,>=0.3.27->langchain-ollama) (2.3.0)\n"
          ]
        }
      ],
      "source": [
        "%pip install -U langchain-ollama"
      ]
    },
    {
      "cell_type": "code",
      "execution_count": 35,
      "metadata": {},
      "outputs": [],
      "source": [
        "# from langchain_ollama.llms import OllamaLLM\n",
        "# llm = OllamaLLM(model=\"llama3.2\")\n",
        "# run = model.invoke(\"what is langchain?\")"
      ]
    },
    {
      "cell_type": "code",
      "execution_count": 33,
      "metadata": {},
      "outputs": [
        {
          "name": "stdout",
          "output_type": "stream",
          "text": [
            "Note: you may need to restart the kernel to use updated packages.\n"
          ]
        }
      ],
      "source": [
        "%pip install -qU langchain-groq"
      ]
    },
    {
      "cell_type": "code",
      "execution_count": 15,
      "metadata": {},
      "outputs": [
        {
          "data": {
            "text/plain": [
              "ChatGroq(client=<groq.resources.chat.completions.Completions object at 0x0000021AB66FAA50>, async_client=<groq.resources.chat.completions.AsyncCompletions object at 0x0000021AB66FB1D0>, model_kwargs={}, groq_api_key=SecretStr('**********'))"
            ]
          },
          "execution_count": 15,
          "metadata": {},
          "output_type": "execute_result"
        }
      ],
      "source": [
        "from langchain_groq import ChatGroq\n",
        "\n",
        "llm=ChatGroq(groq_api_key=GROQ_API_KEY,model_name=\"mixtral-8x7b-32768\")\n",
        "llm"
      ]
    },
    {
      "cell_type": "code",
      "execution_count": 7,
      "metadata": {},
      "outputs": [
        {
          "name": "stdout",
          "output_type": "stream",
          "text": [
            "Processed 700 documents from Gita_questions.csv\n",
            "\n",
            "Example document representation:\n",
            "page_content='chapter: 1 | verse: 1 | speaker: धृतराष्ट्र | sanskrit: धर्मक्षेत्रे कुरुक्षेत्रे समवेता युयुत्सवः| मामकाः पाण्डवाश्चैव किमकुर्वत सञ्जय  || 1.1 ||  | translation: Dhritarashtra said, \"What did my people and the sons of Pandu do when they had assembled together, eager for battle, on the holy plain of Kurukshetra, O Sanjaya?\" | question: How does the Gita start?' metadata={'source_index': 0}\n",
            "Processed 195 documents from PYS_English_Questions.csv\n",
            "\n",
            "Example document representation:\n",
            "page_content='chapter: 1 | verse: 1 | sanskrit: अथ योगानुशासनम् | translation: Now, the teachings of yoga are presented since the student is ready to received these teachings. | question: When does Yoga commence? When should I start doing Yoga?' metadata={'source_index': 0}\n",
            "\n",
            "Total documents processed: 895\n"
          ]
        }
      ],
      "source": [
        "import requests\n",
        "import pandas as pd\n",
        "from langchain.schema import Document\n",
        "from io import StringIO\n",
        "from typing import Dict\n",
        "from dataclasses import dataclass, asdict\n",
        "\n",
        "class ImmutableDict(Dict):\n",
        "    def __hash__(self):\n",
        "        return hash(tuple(sorted(self.items())))\n",
        "\n",
        "# Monkey patch Document's __repr__ to only show page_content\n",
        "def custom_repr(self):\n",
        "    return f\"Document(page_content='{self.page_content}')\"\n",
        "\n",
        "# Store the original __repr__ in case we need to restore it\n",
        "original_repr = Document.__repr__\n",
        "Document.__repr__ = custom_repr\n",
        "\n",
        "# List of dataset file URLs\n",
        "dataset_urls = [\n",
        "    \"https://raw.githubusercontent.com/parth1609/RAGveda/main/dataset/Gita_questions.csv\",\n",
        "    \"https://raw.githubusercontent.com/parth1609/RAGveda/main/dataset/PYS_English_Questions.csv\"\n",
        "]\n",
        "\n",
        "# Initialize an empty list to store documents from all datasets\n",
        "all_documents = []\n",
        "\n",
        "for url in dataset_urls:\n",
        "    try:\n",
        "        # Fetch the CSV file\n",
        "        response = requests.get(url)\n",
        "        response.raise_for_status()\n",
        "\n",
        "        # Load CSV content into pandas DataFrame\n",
        "        csv_content = StringIO(response.text)\n",
        "        df = pd.read_csv(csv_content)\n",
        "\n",
        "        # Convert DataFrame rows to Document objects\n",
        "        dataset_documents = []\n",
        "        for index, row in df.iterrows():\n",
        "            text = \" | \".join([f\"{col}: {row[col]}\" for col in df.columns])\n",
        "            # Create Document with hashable metadata dictionary\n",
        "            metadata = ImmutableDict({\"source_index\": index})\n",
        "            document = Document(\n",
        "                page_content=text,\n",
        "                metadata=metadata\n",
        "            )\n",
        "            dataset_documents.append(document)\n",
        "        \n",
        "        all_documents.extend(dataset_documents)\n",
        "        print(f\"Processed {len(dataset_documents)} documents from {url.split('/')[-1]}\")\n",
        "        \n",
        "        # Show example of document representation\n",
        "        if dataset_documents:\n",
        "            print(\"\\nExample document representation:\")\n",
        "            print(dataset_documents[0])\n",
        "\n",
        "    except Exception as e:\n",
        "        print(f\"Error loading {url}: {e}\")\n",
        "\n",
        "print(f\"\\nTotal documents processed: {len(all_documents)}\")"
      ]
    },
    {
      "cell_type": "code",
      "execution_count": 37,
      "metadata": {},
      "outputs": [
        {
          "data": {
            "text/plain": [
              "[Document(page_content='chapter: 1 | verse: 1 | speaker: धृतराष्ट्र | sanskrit: धर्मक्षेत्रे कुरुक्षेत्रे समवेता युयुत्सवः| मामकाः पाण्डवाश्चैव किमकुर्वत सञ्जय  || 1.1 ||  | translation: Dhritarashtra said, \"What did my people and the sons of Pandu do when they had assembled together, eager for battle, on the holy plain of Kurukshetra, O Sanjaya?\" | question: How does the Gita start?')]"
            ]
          },
          "execution_count": 37,
          "metadata": {},
          "output_type": "execute_result"
        }
      ],
      "source": [
        "a = [all_documents[0]]\n",
        "a"
      ]
    },
    {
      "cell_type": "code",
      "execution_count": 9,
      "metadata": {},
      "outputs": [],
      "source": [
        "!pip install --upgrade --quiet langchain_experimental "
      ]
    },
    {
      "cell_type": "code",
      "execution_count": 10,
      "metadata": {},
      "outputs": [
        {
          "name": "stdout",
          "output_type": "stream",
          "text": [
            "Requirement already satisfied: json-repair in c:\\users\\parth\\onedrive\\desktop\\one\\ragveda\\my_env\\lib\\site-packages (0.35.0)\n",
            "Note: you may need to restart the kernel to use updated packages.\n"
          ]
        }
      ],
      "source": [
        "pip install json-repair"
      ]
    },
    {
      "cell_type": "code",
      "execution_count": null,
      "metadata": {},
      "outputs": [
        {
          "ename": "ImportError",
          "evalue": "cannot import name 'add_graph_documents' from 'langchain_experimental.graph_transformers' (c:\\Users\\parth\\OneDrive\\Desktop\\one\\RAGveda\\my_env\\Lib\\site-packages\\langchain_experimental\\graph_transformers\\__init__.py)",
          "output_type": "error",
          "traceback": [
            "\u001b[1;31m---------------------------------------------------------------------------\u001b[0m",
            "\u001b[1;31mImportError\u001b[0m                               Traceback (most recent call last)",
            "Cell \u001b[1;32mIn[73], line 1\u001b[0m\n\u001b[1;32m----> 1\u001b[0m \u001b[38;5;28;01mfrom\u001b[39;00m \u001b[38;5;21;01mlangchain_experimental\u001b[39;00m\u001b[38;5;21;01m.\u001b[39;00m\u001b[38;5;21;01mgraph_transformers\u001b[39;00m \u001b[38;5;28;01mimport\u001b[39;00m LLMGraphTransformer,add_graph_documents\n\u001b[0;32m      3\u001b[0m \u001b[38;5;28;01mtry\u001b[39;00m:\n\u001b[0;32m      4\u001b[0m     llm_transformer \u001b[38;5;241m=\u001b[39m LLMGraphTransformer(llm\u001b[38;5;241m=\u001b[39mllm)\n",
            "\u001b[1;31mImportError\u001b[0m: cannot import name 'add_graph_documents' from 'langchain_experimental.graph_transformers' (c:\\Users\\parth\\OneDrive\\Desktop\\one\\RAGveda\\my_env\\Lib\\site-packages\\langchain_experimental\\graph_transformers\\__init__.py)"
          ]
        }
      ],
      "source": [
        "\n",
        "\n",
        "from langchain_experimental.graph_transformers import LLMGraphTransformer\n",
        "\n",
        "try:\n",
        "    llm_transformer = LLMGraphTransformer(llm=llm)\n",
        "    print(\"Transformer created successfully.\")\n",
        "except Exception as e:\n",
        "    print(f\"Error: {e}\")\n"
      ]
    },
    {
      "cell_type": "code",
      "execution_count": 69,
      "metadata": {},
      "outputs": [
        {
          "name": "stdout",
          "output_type": "stream",
          "text": [
            "Graph documents generated successfully.\n"
          ]
        }
      ],
      "source": [
        "try:\n",
        "    graph_doc = llm_transformer.convert_to_graph_documents(a)\n",
        "    print(\"Graph documents generated successfully.\")\n",
        "except Exception as e:\n",
        "    print(f\"Error generating graph documents: {e}\")"
      ]
    },
    {
      "cell_type": "code",
      "execution_count": 70,
      "metadata": {},
      "outputs": [
        {
          "data": {
            "text/plain": [
              "[GraphDocument(nodes=[Node(id='Sanjaya', type='Person', properties={}), Node(id='Dhritarashtra', type='Person', properties={})], relationships=[Relationship(source=Node(id='Dhritarashtra', type='Person', properties={}), target=Node(id='Sanjaya', type='Person', properties={}), type='ASKED', properties={})], source=Document(page_content='chapter: 1 | verse: 1 | speaker: धृतराष्ट्र | sanskrit: धर्मक्षेत्रे कुरुक्षेत्रे समवेता युयुत्सवः| मामकाः पाण्डवाश्चैव किमकुर्वत सञ्जय  || 1.1 ||  | translation: Dhritarashtra said, \"What did my people and the sons of Pandu do when they had assembled together, eager for battle, on the holy plain of Kurukshetra, O Sanjaya?\" | question: How does the Gita start?'))]"
            ]
          },
          "execution_count": 70,
          "metadata": {},
          "output_type": "execute_result"
        }
      ],
      "source": [
        "graph_doc"
      ]
    },
    {
      "cell_type": "code",
      "execution_count": 71,
      "metadata": {},
      "outputs": [
        {
          "data": {
            "text/plain": [
              "[Relationship(source=Node(id='Dhritarashtra', type='Person', properties={}), target=Node(id='Sanjaya', type='Person', properties={}), type='ASKED', properties={})]"
            ]
          },
          "execution_count": 71,
          "metadata": {},
          "output_type": "execute_result"
        }
      ],
      "source": [
        "graph_doc[0].relationships"
      ]
    },
    {
      "cell_type": "code",
      "execution_count": 3,
      "metadata": {},
      "outputs": [
        {
          "ename": "ModuleNotFoundError",
          "evalue": "Module langchain_community.chains.graph_qa.cypher not found. Please install langchain-community to access this module. You can install it using `pip install -U langchain-community`",
          "output_type": "error",
          "traceback": [
            "\u001b[1;31m---------------------------------------------------------------------------\u001b[0m",
            "\u001b[1;31mModuleNotFoundError\u001b[0m                       Traceback (most recent call last)",
            "File \u001b[1;32mc:\\Python312\\Lib\\site-packages\\langchain\\_api\\module_import.py:69\u001b[0m, in \u001b[0;36mcreate_importer.<locals>.import_by_name\u001b[1;34m(name)\u001b[0m\n\u001b[0;32m     68\u001b[0m \u001b[38;5;28;01mtry\u001b[39;00m:\n\u001b[1;32m---> 69\u001b[0m     module \u001b[38;5;241m=\u001b[39m \u001b[43mimportlib\u001b[49m\u001b[38;5;241;43m.\u001b[39;49m\u001b[43mimport_module\u001b[49m\u001b[43m(\u001b[49m\u001b[43mnew_module\u001b[49m\u001b[43m)\u001b[49m\n\u001b[0;32m     70\u001b[0m \u001b[38;5;28;01mexcept\u001b[39;00m \u001b[38;5;167;01mModuleNotFoundError\u001b[39;00m \u001b[38;5;28;01mas\u001b[39;00m e:\n",
            "File \u001b[1;32mc:\\Python312\\Lib\\importlib\\__init__.py:90\u001b[0m, in \u001b[0;36mimport_module\u001b[1;34m(name, package)\u001b[0m\n\u001b[0;32m     89\u001b[0m         level \u001b[38;5;241m+\u001b[39m\u001b[38;5;241m=\u001b[39m \u001b[38;5;241m1\u001b[39m\n\u001b[1;32m---> 90\u001b[0m \u001b[38;5;28;01mreturn\u001b[39;00m \u001b[43m_bootstrap\u001b[49m\u001b[38;5;241;43m.\u001b[39;49m\u001b[43m_gcd_import\u001b[49m\u001b[43m(\u001b[49m\u001b[43mname\u001b[49m\u001b[43m[\u001b[49m\u001b[43mlevel\u001b[49m\u001b[43m:\u001b[49m\u001b[43m]\u001b[49m\u001b[43m,\u001b[49m\u001b[43m \u001b[49m\u001b[43mpackage\u001b[49m\u001b[43m,\u001b[49m\u001b[43m \u001b[49m\u001b[43mlevel\u001b[49m\u001b[43m)\u001b[49m\n",
            "File \u001b[1;32m<frozen importlib._bootstrap>:1387\u001b[0m, in \u001b[0;36m_gcd_import\u001b[1;34m(name, package, level)\u001b[0m\n",
            "File \u001b[1;32m<frozen importlib._bootstrap>:1360\u001b[0m, in \u001b[0;36m_find_and_load\u001b[1;34m(name, import_)\u001b[0m\n",
            "File \u001b[1;32m<frozen importlib._bootstrap>:1310\u001b[0m, in \u001b[0;36m_find_and_load_unlocked\u001b[1;34m(name, import_)\u001b[0m\n",
            "File \u001b[1;32m<frozen importlib._bootstrap>:488\u001b[0m, in \u001b[0;36m_call_with_frames_removed\u001b[1;34m(f, *args, **kwds)\u001b[0m\n",
            "File \u001b[1;32m<frozen importlib._bootstrap>:1387\u001b[0m, in \u001b[0;36m_gcd_import\u001b[1;34m(name, package, level)\u001b[0m\n",
            "File \u001b[1;32m<frozen importlib._bootstrap>:1360\u001b[0m, in \u001b[0;36m_find_and_load\u001b[1;34m(name, import_)\u001b[0m\n",
            "File \u001b[1;32m<frozen importlib._bootstrap>:1310\u001b[0m, in \u001b[0;36m_find_and_load_unlocked\u001b[1;34m(name, import_)\u001b[0m\n",
            "File \u001b[1;32m<frozen importlib._bootstrap>:488\u001b[0m, in \u001b[0;36m_call_with_frames_removed\u001b[1;34m(f, *args, **kwds)\u001b[0m\n",
            "File \u001b[1;32m<frozen importlib._bootstrap>:1387\u001b[0m, in \u001b[0;36m_gcd_import\u001b[1;34m(name, package, level)\u001b[0m\n",
            "File \u001b[1;32m<frozen importlib._bootstrap>:1360\u001b[0m, in \u001b[0;36m_find_and_load\u001b[1;34m(name, import_)\u001b[0m\n",
            "File \u001b[1;32m<frozen importlib._bootstrap>:1310\u001b[0m, in \u001b[0;36m_find_and_load_unlocked\u001b[1;34m(name, import_)\u001b[0m\n",
            "File \u001b[1;32m<frozen importlib._bootstrap>:488\u001b[0m, in \u001b[0;36m_call_with_frames_removed\u001b[1;34m(f, *args, **kwds)\u001b[0m\n",
            "File \u001b[1;32m<frozen importlib._bootstrap>:1387\u001b[0m, in \u001b[0;36m_gcd_import\u001b[1;34m(name, package, level)\u001b[0m\n",
            "File \u001b[1;32m<frozen importlib._bootstrap>:1360\u001b[0m, in \u001b[0;36m_find_and_load\u001b[1;34m(name, import_)\u001b[0m\n",
            "File \u001b[1;32m<frozen importlib._bootstrap>:1324\u001b[0m, in \u001b[0;36m_find_and_load_unlocked\u001b[1;34m(name, import_)\u001b[0m\n",
            "\u001b[1;31mModuleNotFoundError\u001b[0m: No module named 'langchain_community'",
            "\nThe above exception was the direct cause of the following exception:\n",
            "\u001b[1;31mModuleNotFoundError\u001b[0m                       Traceback (most recent call last)",
            "Cell \u001b[1;32mIn[3], line 1\u001b[0m\n\u001b[1;32m----> 1\u001b[0m \u001b[38;5;28;01mfrom\u001b[39;00m \u001b[38;5;21;01mlangchain\u001b[39;00m\u001b[38;5;21;01m.\u001b[39;00m\u001b[38;5;21;01mchains\u001b[39;00m \u001b[38;5;28;01mimport\u001b[39;00m GraphCypherQAChain\n\u001b[0;32m      2\u001b[0m chain\u001b[38;5;241m=\u001b[39mGraphCypherQAChain\u001b[38;5;241m.\u001b[39mfrom_llm(llm\u001b[38;5;241m=\u001b[39mllm,graph\u001b[38;5;241m=\u001b[39mgraph,verbose\u001b[38;5;241m=\u001b[39m\u001b[38;5;28;01mTrue\u001b[39;00m)\n\u001b[0;32m      3\u001b[0m chain\n",
            "File \u001b[1;32mc:\\Python312\\Lib\\site-packages\\langchain\\chains\\__init__.py:93\u001b[0m, in \u001b[0;36m__getattr__\u001b[1;34m(name)\u001b[0m\n\u001b[0;32m     92\u001b[0m \u001b[38;5;28;01mdef\u001b[39;00m \u001b[38;5;21m__getattr__\u001b[39m(name: \u001b[38;5;28mstr\u001b[39m) \u001b[38;5;241m-\u001b[39m\u001b[38;5;241m>\u001b[39m Any:\n\u001b[1;32m---> 93\u001b[0m     \u001b[38;5;28;01mreturn\u001b[39;00m \u001b[43mimporter\u001b[49m\u001b[43m(\u001b[49m\u001b[43mname\u001b[49m\u001b[43m)\u001b[49m\n",
            "File \u001b[1;32mc:\\Python312\\Lib\\site-packages\\langchain\\_api\\module_import.py:72\u001b[0m, in \u001b[0;36mcreate_importer.<locals>.import_by_name\u001b[1;34m(name)\u001b[0m\n\u001b[0;32m     70\u001b[0m \u001b[38;5;28;01mexcept\u001b[39;00m \u001b[38;5;167;01mModuleNotFoundError\u001b[39;00m \u001b[38;5;28;01mas\u001b[39;00m e:\n\u001b[0;32m     71\u001b[0m     \u001b[38;5;28;01mif\u001b[39;00m new_module\u001b[38;5;241m.\u001b[39mstartswith(\u001b[38;5;124m\"\u001b[39m\u001b[38;5;124mlangchain_community\u001b[39m\u001b[38;5;124m\"\u001b[39m):\n\u001b[1;32m---> 72\u001b[0m         \u001b[38;5;28;01mraise\u001b[39;00m \u001b[38;5;167;01mModuleNotFoundError\u001b[39;00m(\n\u001b[0;32m     73\u001b[0m             \u001b[38;5;124mf\u001b[39m\u001b[38;5;124m\"\u001b[39m\u001b[38;5;124mModule \u001b[39m\u001b[38;5;132;01m{\u001b[39;00mnew_module\u001b[38;5;132;01m}\u001b[39;00m\u001b[38;5;124m not found. \u001b[39m\u001b[38;5;124m\"\u001b[39m\n\u001b[0;32m     74\u001b[0m             \u001b[38;5;124m\"\u001b[39m\u001b[38;5;124mPlease install langchain-community to access this module. \u001b[39m\u001b[38;5;124m\"\u001b[39m\n\u001b[0;32m     75\u001b[0m             \u001b[38;5;124m\"\u001b[39m\u001b[38;5;124mYou can install it using `pip install -U langchain-community`\u001b[39m\u001b[38;5;124m\"\u001b[39m\n\u001b[0;32m     76\u001b[0m         ) \u001b[38;5;28;01mfrom\u001b[39;00m \u001b[38;5;21;01me\u001b[39;00m\n\u001b[0;32m     77\u001b[0m     \u001b[38;5;28;01mraise\u001b[39;00m\n\u001b[0;32m     79\u001b[0m \u001b[38;5;28;01mtry\u001b[39;00m:\n",
            "\u001b[1;31mModuleNotFoundError\u001b[0m: Module langchain_community.chains.graph_qa.cypher not found. Please install langchain-community to access this module. You can install it using `pip install -U langchain-community`"
          ]
        }
      ],
      "source": [
        "from langchain.chains import GraphCypherQAChain\n",
        "chain=GraphCypherQAChain.from_llm(llm=llm,graph=graph,verbose=True)\n",
        "chain"
      ]
    },
    {
      "cell_type": "code",
      "execution_count": 5,
      "metadata": {
        "colab": {
          "base_uri": "https://localhost:8080/"
        },
        "id": "LBAQXraOEoaV",
        "outputId": "e4b6b495-f278-490b-ddf7-c6a1be566254"
      },
      "outputs": [
        {
          "name": "stdout",
          "output_type": "stream",
          "text": [
            "Collecting langchain-experimental\n",
            "  Downloading langchain_experimental-0.3.4-py3-none-any.whl.metadata (1.7 kB)\n",
            "Requirement already satisfied: langchain-community<0.4.0,>=0.3.0 in /usr/local/lib/python3.10/dist-packages (from langchain-experimental) (0.3.14)\n",
            "Requirement already satisfied: langchain-core<0.4.0,>=0.3.28 in /usr/local/lib/python3.10/dist-packages (from langchain-experimental) (0.3.29)\n",
            "Requirement already satisfied: PyYAML>=5.3 in /usr/local/lib/python3.10/dist-packages (from langchain-community<0.4.0,>=0.3.0->langchain-experimental) (6.0.2)\n",
            "Requirement already satisfied: SQLAlchemy<3,>=1.4 in /usr/local/lib/python3.10/dist-packages (from langchain-community<0.4.0,>=0.3.0->langchain-experimental) (2.0.36)\n",
            "Requirement already satisfied: aiohttp<4.0.0,>=3.8.3 in /usr/local/lib/python3.10/dist-packages (from langchain-community<0.4.0,>=0.3.0->langchain-experimental) (3.11.10)\n",
            "Requirement already satisfied: dataclasses-json<0.7,>=0.5.7 in /usr/local/lib/python3.10/dist-packages (from langchain-community<0.4.0,>=0.3.0->langchain-experimental) (0.6.7)\n",
            "Requirement already satisfied: httpx-sse<0.5.0,>=0.4.0 in /usr/local/lib/python3.10/dist-packages (from langchain-community<0.4.0,>=0.3.0->langchain-experimental) (0.4.0)\n",
            "Requirement already satisfied: langchain<0.4.0,>=0.3.14 in /usr/local/lib/python3.10/dist-packages (from langchain-community<0.4.0,>=0.3.0->langchain-experimental) (0.3.14)\n",
            "Requirement already satisfied: langsmith<0.3,>=0.1.125 in /usr/local/lib/python3.10/dist-packages (from langchain-community<0.4.0,>=0.3.0->langchain-experimental) (0.2.3)\n",
            "Requirement already satisfied: numpy<2,>=1.22.4 in /usr/local/lib/python3.10/dist-packages (from langchain-community<0.4.0,>=0.3.0->langchain-experimental) (1.26.4)\n",
            "Requirement already satisfied: pydantic-settings<3.0.0,>=2.4.0 in /usr/local/lib/python3.10/dist-packages (from langchain-community<0.4.0,>=0.3.0->langchain-experimental) (2.7.1)\n",
            "Requirement already satisfied: requests<3,>=2 in /usr/local/lib/python3.10/dist-packages (from langchain-community<0.4.0,>=0.3.0->langchain-experimental) (2.32.3)\n",
            "Requirement already satisfied: tenacity!=8.4.0,<10,>=8.1.0 in /usr/local/lib/python3.10/dist-packages (from langchain-community<0.4.0,>=0.3.0->langchain-experimental) (9.0.0)\n",
            "Requirement already satisfied: jsonpatch<2.0,>=1.33 in /usr/local/lib/python3.10/dist-packages (from langchain-core<0.4.0,>=0.3.28->langchain-experimental) (1.33)\n",
            "Requirement already satisfied: packaging<25,>=23.2 in /usr/local/lib/python3.10/dist-packages (from langchain-core<0.4.0,>=0.3.28->langchain-experimental) (24.2)\n",
            "Requirement already satisfied: pydantic<3.0.0,>=2.5.2 in /usr/local/lib/python3.10/dist-packages (from langchain-core<0.4.0,>=0.3.28->langchain-experimental) (2.10.3)\n",
            "Requirement already satisfied: typing-extensions>=4.7 in /usr/local/lib/python3.10/dist-packages (from langchain-core<0.4.0,>=0.3.28->langchain-experimental) (4.12.2)\n",
            "Requirement already satisfied: aiohappyeyeballs>=2.3.0 in /usr/local/lib/python3.10/dist-packages (from aiohttp<4.0.0,>=3.8.3->langchain-community<0.4.0,>=0.3.0->langchain-experimental) (2.4.4)\n",
            "Requirement already satisfied: aiosignal>=1.1.2 in /usr/local/lib/python3.10/dist-packages (from aiohttp<4.0.0,>=3.8.3->langchain-community<0.4.0,>=0.3.0->langchain-experimental) (1.3.2)\n",
            "Requirement already satisfied: async-timeout<6.0,>=4.0 in /usr/local/lib/python3.10/dist-packages (from aiohttp<4.0.0,>=3.8.3->langchain-community<0.4.0,>=0.3.0->langchain-experimental) (4.0.3)\n",
            "Requirement already satisfied: attrs>=17.3.0 in /usr/local/lib/python3.10/dist-packages (from aiohttp<4.0.0,>=3.8.3->langchain-community<0.4.0,>=0.3.0->langchain-experimental) (24.3.0)\n",
            "Requirement already satisfied: frozenlist>=1.1.1 in /usr/local/lib/python3.10/dist-packages (from aiohttp<4.0.0,>=3.8.3->langchain-community<0.4.0,>=0.3.0->langchain-experimental) (1.5.0)\n",
            "Requirement already satisfied: multidict<7.0,>=4.5 in /usr/local/lib/python3.10/dist-packages (from aiohttp<4.0.0,>=3.8.3->langchain-community<0.4.0,>=0.3.0->langchain-experimental) (6.1.0)\n",
            "Requirement already satisfied: propcache>=0.2.0 in /usr/local/lib/python3.10/dist-packages (from aiohttp<4.0.0,>=3.8.3->langchain-community<0.4.0,>=0.3.0->langchain-experimental) (0.2.1)\n",
            "Requirement already satisfied: yarl<2.0,>=1.17.0 in /usr/local/lib/python3.10/dist-packages (from aiohttp<4.0.0,>=3.8.3->langchain-community<0.4.0,>=0.3.0->langchain-experimental) (1.18.3)\n",
            "Requirement already satisfied: marshmallow<4.0.0,>=3.18.0 in /usr/local/lib/python3.10/dist-packages (from dataclasses-json<0.7,>=0.5.7->langchain-community<0.4.0,>=0.3.0->langchain-experimental) (3.24.1)\n",
            "Requirement already satisfied: typing-inspect<1,>=0.4.0 in /usr/local/lib/python3.10/dist-packages (from dataclasses-json<0.7,>=0.5.7->langchain-community<0.4.0,>=0.3.0->langchain-experimental) (0.9.0)\n",
            "Requirement already satisfied: jsonpointer>=1.9 in /usr/local/lib/python3.10/dist-packages (from jsonpatch<2.0,>=1.33->langchain-core<0.4.0,>=0.3.28->langchain-experimental) (3.0.0)\n",
            "Requirement already satisfied: langchain-text-splitters<0.4.0,>=0.3.3 in /usr/local/lib/python3.10/dist-packages (from langchain<0.4.0,>=0.3.14->langchain-community<0.4.0,>=0.3.0->langchain-experimental) (0.3.3)\n",
            "Requirement already satisfied: httpx<1,>=0.23.0 in /usr/local/lib/python3.10/dist-packages (from langsmith<0.3,>=0.1.125->langchain-community<0.4.0,>=0.3.0->langchain-experimental) (0.28.1)\n",
            "Requirement already satisfied: orjson<4.0.0,>=3.9.14 in /usr/local/lib/python3.10/dist-packages (from langsmith<0.3,>=0.1.125->langchain-community<0.4.0,>=0.3.0->langchain-experimental) (3.10.12)\n",
            "Requirement already satisfied: requests-toolbelt<2.0.0,>=1.0.0 in /usr/local/lib/python3.10/dist-packages (from langsmith<0.3,>=0.1.125->langchain-community<0.4.0,>=0.3.0->langchain-experimental) (1.0.0)\n",
            "Requirement already satisfied: annotated-types>=0.6.0 in /usr/local/lib/python3.10/dist-packages (from pydantic<3.0.0,>=2.5.2->langchain-core<0.4.0,>=0.3.28->langchain-experimental) (0.7.0)\n",
            "Requirement already satisfied: pydantic-core==2.27.1 in /usr/local/lib/python3.10/dist-packages (from pydantic<3.0.0,>=2.5.2->langchain-core<0.4.0,>=0.3.28->langchain-experimental) (2.27.1)\n",
            "Requirement already satisfied: python-dotenv>=0.21.0 in /usr/local/lib/python3.10/dist-packages (from pydantic-settings<3.0.0,>=2.4.0->langchain-community<0.4.0,>=0.3.0->langchain-experimental) (1.0.1)\n",
            "Requirement already satisfied: charset-normalizer<4,>=2 in /usr/local/lib/python3.10/dist-packages (from requests<3,>=2->langchain-community<0.4.0,>=0.3.0->langchain-experimental) (3.4.0)\n",
            "Requirement already satisfied: idna<4,>=2.5 in /usr/local/lib/python3.10/dist-packages (from requests<3,>=2->langchain-community<0.4.0,>=0.3.0->langchain-experimental) (3.10)\n",
            "Requirement already satisfied: urllib3<3,>=1.21.1 in /usr/local/lib/python3.10/dist-packages (from requests<3,>=2->langchain-community<0.4.0,>=0.3.0->langchain-experimental) (2.2.3)\n",
            "Requirement already satisfied: certifi>=2017.4.17 in /usr/local/lib/python3.10/dist-packages (from requests<3,>=2->langchain-community<0.4.0,>=0.3.0->langchain-experimental) (2024.12.14)\n",
            "Requirement already satisfied: greenlet!=0.4.17 in /usr/local/lib/python3.10/dist-packages (from SQLAlchemy<3,>=1.4->langchain-community<0.4.0,>=0.3.0->langchain-experimental) (3.1.1)\n",
            "Requirement already satisfied: anyio in /usr/local/lib/python3.10/dist-packages (from httpx<1,>=0.23.0->langsmith<0.3,>=0.1.125->langchain-community<0.4.0,>=0.3.0->langchain-experimental) (3.7.1)\n",
            "Requirement already satisfied: httpcore==1.* in /usr/local/lib/python3.10/dist-packages (from httpx<1,>=0.23.0->langsmith<0.3,>=0.1.125->langchain-community<0.4.0,>=0.3.0->langchain-experimental) (1.0.7)\n",
            "Requirement already satisfied: h11<0.15,>=0.13 in /usr/local/lib/python3.10/dist-packages (from httpcore==1.*->httpx<1,>=0.23.0->langsmith<0.3,>=0.1.125->langchain-community<0.4.0,>=0.3.0->langchain-experimental) (0.14.0)\n",
            "Requirement already satisfied: mypy-extensions>=0.3.0 in /usr/local/lib/python3.10/dist-packages (from typing-inspect<1,>=0.4.0->dataclasses-json<0.7,>=0.5.7->langchain-community<0.4.0,>=0.3.0->langchain-experimental) (1.0.0)\n",
            "Requirement already satisfied: sniffio>=1.1 in /usr/local/lib/python3.10/dist-packages (from anyio->httpx<1,>=0.23.0->langsmith<0.3,>=0.1.125->langchain-community<0.4.0,>=0.3.0->langchain-experimental) (1.3.1)\n",
            "Requirement already satisfied: exceptiongroup in /usr/local/lib/python3.10/dist-packages (from anyio->httpx<1,>=0.23.0->langsmith<0.3,>=0.1.125->langchain-community<0.4.0,>=0.3.0->langchain-experimental) (1.2.2)\n",
            "Downloading langchain_experimental-0.3.4-py3-none-any.whl (209 kB)\n",
            "\u001b[2K   \u001b[90m━━━━━━━━━━━━━━━━━━━━━━━━━━━━━━━━━━━━━━━━\u001b[0m \u001b[32m209.2/209.2 kB\u001b[0m \u001b[31m3.2 MB/s\u001b[0m eta \u001b[36m0:00:00\u001b[0m\n",
            "\u001b[?25hInstalling collected packages: langchain-experimental\n",
            "Successfully installed langchain-experimental-0.3.4\n"
          ]
        }
      ],
      "source": [
        "\n",
        "!%pip install langchain-experimental"
      ]
    },
    {
      "cell_type": "code",
      "execution_count": 6,
      "metadata": {
        "id": "d5RFyAS_rUeT"
      },
      "outputs": [],
      "source": [
        "query = \"\"\"\n",
        "// Create Knowledge node\n",
        "MERGE (knowledge:Knowledge {name: 'Knowledge'})\n",
        "\n",
        "// Create and connect PYS\n",
        "MERGE (pys:PYS {name: 'PYS'})\n",
        "MERGE (knowledge)-[:HAS_SOURCE]->(pys)\n",
        "\n",
        "// Create and connect GITA\n",
        "MERGE (gita:GITA {name: 'GITA'})\n",
        "MERGE (knowledge)-[:HAS_SOURCE]->(gita)\n",
        "\"\"\"\n"
      ]
    },
    {
      "cell_type": "code",
      "execution_count": 7,
      "metadata": {
        "colab": {
          "base_uri": "https://localhost:8080/"
        },
        "id": "24QL6syIror3",
        "outputId": "982c5fb1-4337-404f-cf66-8a305ed52b31"
      },
      "outputs": [
        {
          "data": {
            "text/plain": [
              "[]"
            ]
          },
          "execution_count": 7,
          "metadata": {},
          "output_type": "execute_result"
        }
      ],
      "source": [
        "graph.query(query)"
      ]
    },
    {
      "cell_type": "code",
      "execution_count": 8,
      "metadata": {
        "id": "M_j_fJ9v08J1"
      },
      "outputs": [],
      "source": [
        "\n",
        "query = \"\"\"\n",
        "LOAD CSV WITH HEADERS FROM 'https://raw.githubusercontent.com/parth1609/RAGveda/main/dataset/Gita_questions.csv' AS row\n",
        "WITH row\n",
        "WHERE row.chapter IS NOT NULL AND row.chapter <> ''\n",
        "  AND row.verse IS NOT NULL AND row.verse <> ''\n",
        "\n",
        "// Ensure the Knowledge node exists\n",
        "MERGE (knowledge:Knowledge {name: 'Knowledge'})\n",
        "\n",
        "// Create the GITA label and connect it to Knowledge\n",
        "MERGE (gita:GITA {name: 'GITA'})\n",
        "MERGE (knowledge)-[:HAS_SOURCE]->(gita)\n",
        "\n",
        "// Create and relate Chapter nodes\n",
        "MERGE (chapter:GITAChapter {number: toInteger(row.chapter)})\n",
        "MERGE (gita)-[:HAS_CHAPTER]->(chapter)\n",
        "\n",
        "// Create and relate Verse nodes\n",
        "MERGE (verse:GITAVerse {number: toInteger(row.verse), chapterNumber: toInteger(row.chapter)})\n",
        "MERGE (chapter)-[:HAS_VERSE]->(verse)\n",
        "\n",
        "// Relate Sanskrit text to Verse\n",
        "MERGE (shloka:GITASanskrit {text: row.sanskrit})\n",
        "MERGE (verse)-[:HAS_SHLOKA]->(shloka)\n",
        "\n",
        "// Create Translation node and relate it to Sanskrit Shloka and Verse\n",
        "MERGE (translation:GITATranslation {text: row.translation})\n",
        "MERGE (shloka)-[:HAS_TRANSLATION]->(translation)\n",
        "MERGE (verse)-[:HAS_TRANSLATION]->(translation)\n",
        "\n",
        "// Create Question node and ensure proper relationships\n",
        "MERGE (question:GITAQuestion {text: row.question})\n",
        "MERGE (question)-[:ABOUT_VERSE]->(verse)\n",
        "MERGE (question)-[:ABOUT_TRANSLATION]->(translation)\n",
        "MERGE (question)-[:ABOUT_SHLOKA]->(shloka)\n",
        "\n",
        "\n",
        "\n",
        "\"\"\"\n"
      ]
    },
    {
      "cell_type": "code",
      "execution_count": 9,
      "metadata": {
        "colab": {
          "base_uri": "https://localhost:8080/"
        },
        "id": "J5uKJjaI_JjL",
        "outputId": "dd9df967-da75-4288-df7e-f2b4933548c0"
      },
      "outputs": [
        {
          "data": {
            "text/plain": [
              "[]"
            ]
          },
          "execution_count": 9,
          "metadata": {},
          "output_type": "execute_result"
        }
      ],
      "source": [
        "graph.query(query)"
      ]
    },
    {
      "cell_type": "code",
      "execution_count": 10,
      "metadata": {
        "id": "Dhf78IbG6rvG"
      },
      "outputs": [],
      "source": [
        "query=\"\"\"\n",
        "LOAD CSV WITH HEADERS FROM 'https://raw.githubusercontent.com/parth1609/RAGveda/main/dataset/PYS_English_Questions.csv' AS row\n",
        "WITH row\n",
        "WHERE row.chapter IS NOT NULL AND row.chapter <> ''\n",
        "  AND row.verse IS NOT NULL AND row.verse <> ''\n",
        "\n",
        "// Ensure the Knowledge node exists\n",
        "MERGE (knowledge:Knowledge {name: 'Knowledge'})\n",
        "\n",
        "// Create the PYS label and connect it to Knowledge\n",
        "MERGE (pys:PYS {name: 'PYS'})\n",
        "MERGE (knowledge)-[:HAS_SOURCE]->(pys)\n",
        "\n",
        "// Create Chapter node and relate it to PYS\n",
        "MERGE (chapter:PYSChapter {number: toInteger(row.chapter)})\n",
        "MERGE (pys)-[:HAS_CHAPTER]->(chapter)\n",
        "\n",
        "// Create Verse node and relate it to Chapter\n",
        "MERGE (verse:PYSVerse {number: toInteger(row.verse), chapterNumber: toInteger(row.chapter)})\n",
        "MERGE (chapter)-[:HAS_VERSE]->(verse)\n",
        "\n",
        "// Relate Sanskrit text to Verse\n",
        "MERGE (shloka:PYSSanskrit {text: row.sanskrit})\n",
        "MERGE (verse)-[:HAS_SHLOKA]->(shloka)\n",
        "\n",
        "// Create Translation node and relate it to Sanskrit Shloka and Verse\n",
        "MERGE (translation:PYSTranslation {text: row.translation})\n",
        "MERGE (shloka)-[:HAS_TRANSLATION]->(translation)\n",
        "MERGE (verse)-[:HAS_TRANSLATION]->(translation)\n",
        "\n",
        "// Create Question node and ensure proper relationships\n",
        "MERGE (question:PYSQuestion {text: row.question})\n",
        "MERGE (question)-[:ABOUT_VERSE]->(verse)\n",
        "MERGE (question)-[:ABOUT_TRANSLATION]->(translation)\n",
        "MERGE (question)-[:ABOUT_SHLOKA]->(shloka)\n",
        "\n",
        "\n",
        "\"\"\""
      ]
    },
    {
      "cell_type": "code",
      "execution_count": 11,
      "metadata": {
        "colab": {
          "base_uri": "https://localhost:8080/"
        },
        "id": "WmcsnV-C7-WG",
        "outputId": "1652a877-3c98-4633-d697-736a57689415"
      },
      "outputs": [
        {
          "data": {
            "text/plain": [
              "[]"
            ]
          },
          "execution_count": 11,
          "metadata": {},
          "output_type": "execute_result"
        }
      ],
      "source": [
        "graph.query(query)"
      ]
    },
    {
      "cell_type": "code",
      "execution_count": 12,
      "metadata": {
        "colab": {
          "base_uri": "https://localhost:8080/"
        },
        "id": "eyOS-aiE_Mfw",
        "outputId": "690a056e-eda3-4cb2-9457-8208abf9f982"
      },
      "outputs": [
        {
          "name": "stdout",
          "output_type": "stream",
          "text": [
            "Node properties:\n",
            "Knowledge {name: STRING}\n",
            "PYS {name: STRING}\n",
            "GITA {name: STRING}\n",
            "GITAChapter {number: INTEGER}\n",
            "GITAVerse {number: INTEGER, chapterNumber: INTEGER}\n",
            "GITASanskrit {text: STRING}\n",
            "GITATranslation {text: STRING}\n",
            "GITAQuestion {text: STRING}\n",
            "PYSChapter {number: INTEGER}\n",
            "PYSVerse {number: INTEGER, chapterNumber: INTEGER}\n",
            "PYSSanskrit {text: STRING}\n",
            "PYSTranslation {text: STRING}\n",
            "PYSQuestion {text: STRING}\n",
            "Relationship properties:\n",
            "\n",
            "The relationships:\n",
            "(:Knowledge)-[:HAS_SOURCE]->(:PYS)\n",
            "(:Knowledge)-[:HAS_SOURCE]->(:GITA)\n",
            "(:PYS)-[:HAS_CHAPTER]->(:PYSChapter)\n",
            "(:GITA)-[:HAS_CHAPTER]->(:GITAChapter)\n",
            "(:GITAChapter)-[:HAS_VERSE]->(:GITAVerse)\n",
            "(:GITAVerse)-[:HAS_SHLOKA]->(:GITASanskrit)\n",
            "(:GITAVerse)-[:HAS_TRANSLATION]->(:GITATranslation)\n",
            "(:GITASanskrit)-[:HAS_TRANSLATION]->(:GITATranslation)\n",
            "(:GITAQuestion)-[:ABOUT_VERSE]->(:GITAVerse)\n",
            "(:GITAQuestion)-[:ABOUT_TRANSLATION]->(:GITATranslation)\n",
            "(:GITAQuestion)-[:ABOUT_SHLOKA]->(:GITASanskrit)\n",
            "(:PYSChapter)-[:HAS_VERSE]->(:PYSVerse)\n",
            "(:PYSVerse)-[:HAS_SHLOKA]->(:PYSSanskrit)\n",
            "(:PYSVerse)-[:HAS_TRANSLATION]->(:PYSTranslation)\n",
            "(:PYSSanskrit)-[:HAS_TRANSLATION]->(:PYSTranslation)\n",
            "(:PYSQuestion)-[:ABOUT_VERSE]->(:PYSVerse)\n",
            "(:PYSQuestion)-[:ABOUT_TRANSLATION]->(:PYSTranslation)\n",
            "(:PYSQuestion)-[:ABOUT_SHLOKA]->(:PYSSanskrit)\n"
          ]
        }
      ],
      "source": [
        "graph.refresh_schema()\n",
        "print(graph.schema)"
      ]
    },
    {
      "cell_type": "code",
      "execution_count": 13,
      "metadata": {
        "colab": {
          "base_uri": "https://localhost:8080/"
        },
        "id": "is0QbxN5MxNQ",
        "outputId": "5602c7c3-642e-4f0d-8dca-3a1fee33c0b3"
      },
      "outputs": [
        {
          "name": "stdout",
          "output_type": "stream",
          "text": [
            "\u001b[?25l   \u001b[90m━━━━━━━━━━━━━━━━━━━━━━━━━━━━━━━━━━━━━━━━\u001b[0m \u001b[32m0.0/41.2 kB\u001b[0m \u001b[31m?\u001b[0m eta \u001b[36m-:--:--\u001b[0m\r\u001b[2K   \u001b[90m━━━━━━━━━━━━━━━━━━━━━━━━━━━━━━━━━━━━━━━━\u001b[0m \u001b[32m41.2/41.2 kB\u001b[0m \u001b[31m1.5 MB/s\u001b[0m eta \u001b[36m0:00:00\u001b[0m\n",
            "\u001b[?25h\u001b[?25l   \u001b[90m━━━━━━━━━━━━━━━━━━━━━━━━━━━━━━━━━━━━━━━━\u001b[0m \u001b[32m0.0/4.5 MB\u001b[0m \u001b[31m?\u001b[0m eta \u001b[36m-:--:--\u001b[0m\r\u001b[2K   \u001b[91m━━━━\u001b[0m\u001b[90m╺\u001b[0m\u001b[90m━━━━━━━━━━━━━━━━━━━━━━━━━━━━━━━━━━━\u001b[0m \u001b[32m0.5/4.5 MB\u001b[0m \u001b[31m13.9 MB/s\u001b[0m eta \u001b[36m0:00:01\u001b[0m\r\u001b[2K   \u001b[91m━━━━━━━━━━━━━━━━━━━━━━\u001b[0m\u001b[91m╸\u001b[0m\u001b[90m━━━━━━━━━━━━━━━━━\u001b[0m \u001b[32m2.5/4.5 MB\u001b[0m \u001b[31m36.6 MB/s\u001b[0m eta \u001b[36m0:00:01\u001b[0m\r\u001b[2K   \u001b[91m━━━━━━━━━━━━━━━━━━━━━━━━━━━━━━━━━━━━━━━\u001b[0m\u001b[91m╸\u001b[0m \u001b[32m4.5/4.5 MB\u001b[0m \u001b[31m54.2 MB/s\u001b[0m eta \u001b[36m0:00:01\u001b[0m\r\u001b[2K   \u001b[90m━━━━━━━━━━━━━━━━━━━━━━━━━━━━━━━━━━━━━━━━\u001b[0m \u001b[32m4.5/4.5 MB\u001b[0m \u001b[31m39.9 MB/s\u001b[0m eta \u001b[36m0:00:00\u001b[0m\n",
            "\u001b[?25h"
          ]
        }
      ],
      "source": [
        "pip install -U --quiet langchain-nvidia-ai-endpoints"
      ]
    },
    {
      "cell_type": "code",
      "execution_count": 14,
      "metadata": {
        "id": "YV3OGrHmMx3e"
      },
      "outputs": [],
      "source": [
        "from langchain_nvidia_ai_endpoints import ChatNVIDIA\n",
        "\n",
        "llm = ChatNVIDIA(\n",
        "  model=\"meta/llama-3.1-70b-instruct\",\n",
        "  api_key=NVIDIA_API_KEY,\n",
        "\n",
        ")\n"
      ]
    },
    {
      "cell_type": "code",
      "execution_count": 15,
      "metadata": {
        "id": "HVNcPGVR86qu"
      },
      "outputs": [],
      "source": [
        "%pip install -qU langchain-groq"
      ]
    },
    {
      "cell_type": "code",
      "execution_count": 16,
      "metadata": {
        "id": "W68mP0Br9FMz"
      },
      "outputs": [],
      "source": [
        "from langchain.chains import GraphCypherQAChain\n",
        "chain = GraphCypherQAChain.from_llm(llm=llm, graph=graph, verbose=True, allow_dangerous_requests=True)\n",
        "\n"
      ]
    },
    {
      "cell_type": "code",
      "execution_count": 20,
      "metadata": {
        "colab": {
          "base_uri": "https://localhost:8080/"
        },
        "id": "hYFFB9w49Ggd",
        "outputId": "a2be3478-8399-46f3-daa0-30f3434264a8"
      },
      "outputs": [
        {
          "name": "stdout",
          "output_type": "stream",
          "text": [
            "\n",
            "\n",
            "\u001b[1m> Entering new GraphCypherQAChain chain...\u001b[0m\n",
            "Generated Cypher:\n",
            "\u001b[32;1m\u001b[1;3m\n",
            "MATCH (q:GITAQuestion {text: \"Who was the king from Kashi who fought in the Mahabharata war?\"})-[:ABOUT_VERSE]->(v:GITAVerse)-[:HAS_SHLOKA]->(s:GITASanskrit)-[:HAS_TRANSLATION]->(t:GITATranslation)\n",
            "OPTIONAL MATCH (q)-[:ABOUT_SHLOKA]->(s2:GITASanskrit)-[:HAS_TRANSLATION]->(t2:GITATranslation)\n",
            "RETURN [[s.text, t.text]] as result\n",
            "UNION\n",
            "MATCH (q:PYSQuestion {text: \"Who was the king from Kashi who fought in the Mahabharata war?\"})-[:ABOUT_VERSE]->(v:PYSVerse)-[:HAS_SHLOKA]->(s:PYSSanskrit)-[:HAS_TRANSLATION]->(t:PYSTranslation)\n",
            "OPTIONAL MATCH (q)-[:ABOUT_SHLOKA]->(s2:PYSSanskrit)-[:HAS_TRANSLATION]->(t2:PYSTranslation)\n",
            "RETURN [[s.text, t.text]] as result\n",
            "\u001b[0m\n",
            "Full Context:\n",
            "\u001b[32;1m\u001b[1;3m[{'result': [['धृष्टकेतुश्चेकितानः काशिराजश्च वीर्यवान्| पुरुजित्कुन्तिभोजश्च शैब्यश्च नरपुङ्गवः  || 1.5 || ', 'Dhrishtaketu, Chekitana, the valiant king of Kasi, Purujit, Kuntibhoja, and Saibya—the best of men.']]}]\u001b[0m\n",
            "\n",
            "\u001b[1m> Finished chain.\u001b[0m\n",
            "{'query': \"I have this 'Who was the king from Kashi who fought in the Mahabharata war?'. please give about shloka from 'Gita' or 'Pys' particular chapter , along with its structure as[shloka,tranlation], or state that no relevant information exists`\", 'result': \"According to the Mahabharata, the valiant king from Kasi who fought in the war was: \\n\\n king of Kasi.\\n \\n[धृष्टकेतुश्चेकितानः काशिराजश्च वीर्यवान्| पुरुजित्कुन्तिभोजश्च शैब्यश्च नरपुङ्गवः  || 1.5 || ', 'Dhrishtaketu, Chekitana, the valiant king of Kasi, Purujit, Kuntibhoja, and Saibya—the best of men.']\"}\n"
          ]
        }
      ],
      "source": [
        "question = \"Who was the king from Kashi who fought in the Mahabharata war?\"\n",
        "sanskritShloka = \"सर्वस्य चाहं हृदि सन्निविष्टो मत्तः स्मृतिर्ज्ञानमपोहनं च| वेदैश्च सर्वैरहमेव वेद्यो वेदान्तकृद्वेदविदेव चाहम् || 15.15 || \"\n",
        "speaker = \"भगवान\"\n",
        "\n",
        "try:\n",
        "    response = chain.invoke({\"query\": f\"I have this '{question}'. please give about shloka from 'Gita' or 'Pys' particular chapter , along with its structure as[shloka,tranlation], or state that no relevant information exists`\"})\n",
        "    print(response)  # Or display response in a suitable way for your notebook\n",
        "except Exception as e:\n",
        "    print(f\"Error: {e}\") # printing the error that has occurred\n",
        "    print(f\"No relevant information found for the question: {question}\")"
      ]
    },
    {
      "cell_type": "code",
      "execution_count": 17,
      "metadata": {
        "id": "Mk0v7TAWMN01"
      },
      "outputs": [],
      "source": []
    },
    {
      "cell_type": "code",
      "execution_count": null,
      "metadata": {
        "id": "I8nCU_rbmQac"
      },
      "outputs": [],
      "source": []
    }
  ],
  "metadata": {
    "colab": {
      "provenance": []
    },
    "kernelspec": {
      "display_name": "Python 3",
      "language": "python",
      "name": "python3"
    },
    "language_info": {
      "codemirror_mode": {
        "name": "ipython",
        "version": 3
      },
      "file_extension": ".py",
      "mimetype": "text/x-python",
      "name": "python",
      "nbconvert_exporter": "python",
      "pygments_lexer": "ipython3",
      "version": "3.12.7"
    }
  },
  "nbformat": 4,
  "nbformat_minor": 0
}
