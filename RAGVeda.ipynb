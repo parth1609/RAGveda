{
  "cells": [
    {
      "cell_type": "code",
      "execution_count": 1,
      "metadata": {
        "colab": {
          "base_uri": "https://localhost:8080/"
        },
        "id": "qBbEDSrGoAMU",
        "outputId": "5327f44c-70b8-4769-c12f-678bad8b5841"
      },
      "outputs": [
        {
          "name": "stdout",
          "output_type": "stream",
          "text": [
            "\u001b[?25l   \u001b[90m━━━━━━━━━━━━━━━━━━━━━━━━━━━━━━━━━━━━━━━━\u001b[0m \u001b[32m0.0/1.0 MB\u001b[0m \u001b[31m?\u001b[0m eta \u001b[36m-:--:--\u001b[0m\r\u001b[2K   \u001b[91m━━━━━━━━━━━━━━━━━━━━━━━━━━━━━━━━━━━━━━━\u001b[0m\u001b[91m╸\u001b[0m \u001b[32m1.0/1.0 MB\u001b[0m \u001b[31m51.5 MB/s\u001b[0m eta \u001b[36m0:00:01\u001b[0m\r\u001b[2K   \u001b[90m━━━━━━━━━━━━━━━━━━━━━━━━━━━━━━━━━━━━━━━━\u001b[0m \u001b[32m1.0/1.0 MB\u001b[0m \u001b[31m19.7 MB/s\u001b[0m eta \u001b[36m0:00:00\u001b[0m\n",
            "\u001b[?25h\u001b[?25l   \u001b[90m━━━━━━━━━━━━━━━━━━━━━━━━━━━━━━━━━━━━━━━━\u001b[0m \u001b[32m0.0/2.5 MB\u001b[0m \u001b[31m?\u001b[0m eta \u001b[36m-:--:--\u001b[0m\r\u001b[2K   \u001b[91m━━━━━━━━━━━━━━━━━━━━━━━━━━━━━━━━━━━━━━━\u001b[0m\u001b[91m╸\u001b[0m \u001b[32m2.5/2.5 MB\u001b[0m \u001b[31m87.3 MB/s\u001b[0m eta \u001b[36m0:00:01\u001b[0m\r\u001b[2K   \u001b[90m━━━━━━━━━━━━━━━━━━━━━━━━━━━━━━━━━━━━━━━━\u001b[0m \u001b[32m2.5/2.5 MB\u001b[0m \u001b[31m42.7 MB/s\u001b[0m eta \u001b[36m0:00:00\u001b[0m\n",
            "\u001b[2K   \u001b[90m━━━━━━━━━━━━━━━━━━━━━━━━━━━━━━━━━━━━━━━━\u001b[0m \u001b[32m301.7/301.7 kB\u001b[0m \u001b[31m21.8 MB/s\u001b[0m eta \u001b[36m0:00:00\u001b[0m\n",
            "\u001b[2K   \u001b[90m━━━━━━━━━━━━━━━━━━━━━━━━━━━━━━━━━━━━━━━━\u001b[0m \u001b[32m109.1/109.1 kB\u001b[0m \u001b[31m8.2 MB/s\u001b[0m eta \u001b[36m0:00:00\u001b[0m\n",
            "\u001b[2K   \u001b[90m━━━━━━━━━━━━━━━━━━━━━━━━━━━━━━━━━━━━━━━━\u001b[0m \u001b[32m411.6/411.6 kB\u001b[0m \u001b[31m22.6 MB/s\u001b[0m eta \u001b[36m0:00:00\u001b[0m\n",
            "\u001b[2K   \u001b[90m━━━━━━━━━━━━━━━━━━━━━━━━━━━━━━━━━━━━━━━━\u001b[0m \u001b[32m48.9/48.9 kB\u001b[0m \u001b[31m3.6 MB/s\u001b[0m eta \u001b[36m0:00:00\u001b[0m\n",
            "\u001b[?25h"
          ]
        }
      ],
      "source": [
        "!pip install --upgrade --quiet  langchain langchain-community langchain-groq neo4j  langchain-neo4j"
      ]
    },
    {
      "cell_type": "code",
      "execution_count": 2,
      "metadata": {
        "id": "_XoQHCbrvgPN"
      },
      "outputs": [],
      "source": [
        "from google.colab import userdata\n",
        "NEO4J_URI = userdata.get('NEO4J_URI')\n",
        "NEO4J_USERNAME = userdata.get('NEO4J_USERNAME')\n",
        "NEO4J_PASSWORD = userdata.get('NEO4J_PASSWORD')\n",
        "GROQ_API_KEY = userdata.get('GROQ_API_KEY')\n",
        "\n",
        "NEO4J_URI = NEO4J_URI\n",
        "NEO4J_USERNAME = NEO4J_USERNAME\n",
        "NEO4J_PASSWORD = NEO4J_PASSWORD\n",
        "GROQ_API_KEY = GROQ_API_KEY"
      ]
    },
    {
      "cell_type": "code",
      "execution_count": 3,
      "metadata": {
        "id": "zKI-16Llvx6u"
      },
      "outputs": [],
      "source": [
        "import os\n",
        "\n",
        "\n",
        "os.environ[\"NEO4J_URI\"] = NEO4J_URI\n",
        "os.environ[\"NEO4J_USERNAME\"] = NEO4J_USERNAME\n",
        "os.environ[\"NEO4J_PASSWORD\"] = NEO4J_PASSWORD\n"
      ]
    },
    {
      "cell_type": "code",
      "execution_count": 4,
      "metadata": {
        "colab": {
          "base_uri": "https://localhost:8080/"
        },
        "id": "bkX-eIWPrWm3",
        "outputId": "16d1a2a6-0faa-4c63-fe2a-12ddcf1e6f18"
      },
      "outputs": [
        {
          "name": "stderr",
          "output_type": "stream",
          "text": [
            "<ipython-input-4-6cc53d2d5161>:2: LangChainDeprecationWarning: The class `Neo4jGraph` was deprecated in LangChain 0.3.8 and will be removed in 1.0. An updated version of the class exists in the :class:`~langchain-neo4j package and should be used instead. To use it run `pip install -U :class:`~langchain-neo4j` and import as `from :class:`~langchain_neo4j import Neo4jGraph``.\n",
            "  graph=Neo4jGraph(\n"
          ]
        },
        {
          "data": {
            "text/plain": [
              "<langchain_community.graphs.neo4j_graph.Neo4jGraph at 0x7ff24caf1240>"
            ]
          },
          "execution_count": 4,
          "metadata": {},
          "output_type": "execute_result"
        }
      ],
      "source": [
        "from langchain_community.graphs import Neo4jGraph\n",
        "graph=Neo4jGraph(\n",
        "    url=str(NEO4J_URI),\n",
        "    username= str(NEO4J_USERNAME),\n",
        "    password=str(NEO4J_PASSWORD),\n",
        ")\n",
        "graph"
      ]
    },
    {
      "cell_type": "code",
      "execution_count": 6,
      "metadata": {
        "colab": {
          "base_uri": "https://localhost:8080/"
        },
        "id": "RD3L1Sj5wykY",
        "outputId": "e4ab60d6-1c51-459a-bc2f-d1e50cd7d519"
      },
      "outputs": [
        {
          "name": "stdout",
          "output_type": "stream",
          "text": [
            "Collecting langchain-experimental\n",
            "  Downloading langchain_experimental-0.3.4-py3-none-any.whl.metadata (1.7 kB)\n",
            "Requirement already satisfied: langchain-community<0.4.0,>=0.3.0 in /usr/local/lib/python3.10/dist-packages (from langchain-experimental) (0.3.14)\n",
            "Requirement already satisfied: langchain-core<0.4.0,>=0.3.28 in /usr/local/lib/python3.10/dist-packages (from langchain-experimental) (0.3.29)\n",
            "Requirement already satisfied: PyYAML>=5.3 in /usr/local/lib/python3.10/dist-packages (from langchain-community<0.4.0,>=0.3.0->langchain-experimental) (6.0.2)\n",
            "Requirement already satisfied: SQLAlchemy<3,>=1.4 in /usr/local/lib/python3.10/dist-packages (from langchain-community<0.4.0,>=0.3.0->langchain-experimental) (2.0.36)\n",
            "Requirement already satisfied: aiohttp<4.0.0,>=3.8.3 in /usr/local/lib/python3.10/dist-packages (from langchain-community<0.4.0,>=0.3.0->langchain-experimental) (3.11.10)\n",
            "Requirement already satisfied: dataclasses-json<0.7,>=0.5.7 in /usr/local/lib/python3.10/dist-packages (from langchain-community<0.4.0,>=0.3.0->langchain-experimental) (0.6.7)\n",
            "Requirement already satisfied: httpx-sse<0.5.0,>=0.4.0 in /usr/local/lib/python3.10/dist-packages (from langchain-community<0.4.0,>=0.3.0->langchain-experimental) (0.4.0)\n",
            "Requirement already satisfied: langchain<0.4.0,>=0.3.14 in /usr/local/lib/python3.10/dist-packages (from langchain-community<0.4.0,>=0.3.0->langchain-experimental) (0.3.14)\n",
            "Requirement already satisfied: langsmith<0.3,>=0.1.125 in /usr/local/lib/python3.10/dist-packages (from langchain-community<0.4.0,>=0.3.0->langchain-experimental) (0.2.3)\n",
            "Requirement already satisfied: numpy<2,>=1.22.4 in /usr/local/lib/python3.10/dist-packages (from langchain-community<0.4.0,>=0.3.0->langchain-experimental) (1.26.4)\n",
            "Requirement already satisfied: pydantic-settings<3.0.0,>=2.4.0 in /usr/local/lib/python3.10/dist-packages (from langchain-community<0.4.0,>=0.3.0->langchain-experimental) (2.7.1)\n",
            "Requirement already satisfied: requests<3,>=2 in /usr/local/lib/python3.10/dist-packages (from langchain-community<0.4.0,>=0.3.0->langchain-experimental) (2.32.3)\n",
            "Requirement already satisfied: tenacity!=8.4.0,<10,>=8.1.0 in /usr/local/lib/python3.10/dist-packages (from langchain-community<0.4.0,>=0.3.0->langchain-experimental) (9.0.0)\n",
            "Requirement already satisfied: jsonpatch<2.0,>=1.33 in /usr/local/lib/python3.10/dist-packages (from langchain-core<0.4.0,>=0.3.28->langchain-experimental) (1.33)\n",
            "Requirement already satisfied: packaging<25,>=23.2 in /usr/local/lib/python3.10/dist-packages (from langchain-core<0.4.0,>=0.3.28->langchain-experimental) (24.2)\n",
            "Requirement already satisfied: pydantic<3.0.0,>=2.5.2 in /usr/local/lib/python3.10/dist-packages (from langchain-core<0.4.0,>=0.3.28->langchain-experimental) (2.10.3)\n",
            "Requirement already satisfied: typing-extensions>=4.7 in /usr/local/lib/python3.10/dist-packages (from langchain-core<0.4.0,>=0.3.28->langchain-experimental) (4.12.2)\n",
            "Requirement already satisfied: aiohappyeyeballs>=2.3.0 in /usr/local/lib/python3.10/dist-packages (from aiohttp<4.0.0,>=3.8.3->langchain-community<0.4.0,>=0.3.0->langchain-experimental) (2.4.4)\n",
            "Requirement already satisfied: aiosignal>=1.1.2 in /usr/local/lib/python3.10/dist-packages (from aiohttp<4.0.0,>=3.8.3->langchain-community<0.4.0,>=0.3.0->langchain-experimental) (1.3.2)\n",
            "Requirement already satisfied: async-timeout<6.0,>=4.0 in /usr/local/lib/python3.10/dist-packages (from aiohttp<4.0.0,>=3.8.3->langchain-community<0.4.0,>=0.3.0->langchain-experimental) (4.0.3)\n",
            "Requirement already satisfied: attrs>=17.3.0 in /usr/local/lib/python3.10/dist-packages (from aiohttp<4.0.0,>=3.8.3->langchain-community<0.4.0,>=0.3.0->langchain-experimental) (24.3.0)\n",
            "Requirement already satisfied: frozenlist>=1.1.1 in /usr/local/lib/python3.10/dist-packages (from aiohttp<4.0.0,>=3.8.3->langchain-community<0.4.0,>=0.3.0->langchain-experimental) (1.5.0)\n",
            "Requirement already satisfied: multidict<7.0,>=4.5 in /usr/local/lib/python3.10/dist-packages (from aiohttp<4.0.0,>=3.8.3->langchain-community<0.4.0,>=0.3.0->langchain-experimental) (6.1.0)\n",
            "Requirement already satisfied: propcache>=0.2.0 in /usr/local/lib/python3.10/dist-packages (from aiohttp<4.0.0,>=3.8.3->langchain-community<0.4.0,>=0.3.0->langchain-experimental) (0.2.1)\n",
            "Requirement already satisfied: yarl<2.0,>=1.17.0 in /usr/local/lib/python3.10/dist-packages (from aiohttp<4.0.0,>=3.8.3->langchain-community<0.4.0,>=0.3.0->langchain-experimental) (1.18.3)\n",
            "Requirement already satisfied: marshmallow<4.0.0,>=3.18.0 in /usr/local/lib/python3.10/dist-packages (from dataclasses-json<0.7,>=0.5.7->langchain-community<0.4.0,>=0.3.0->langchain-experimental) (3.23.3)\n",
            "Requirement already satisfied: typing-inspect<1,>=0.4.0 in /usr/local/lib/python3.10/dist-packages (from dataclasses-json<0.7,>=0.5.7->langchain-community<0.4.0,>=0.3.0->langchain-experimental) (0.9.0)\n",
            "Requirement already satisfied: jsonpointer>=1.9 in /usr/local/lib/python3.10/dist-packages (from jsonpatch<2.0,>=1.33->langchain-core<0.4.0,>=0.3.28->langchain-experimental) (3.0.0)\n",
            "Requirement already satisfied: langchain-text-splitters<0.4.0,>=0.3.3 in /usr/local/lib/python3.10/dist-packages (from langchain<0.4.0,>=0.3.14->langchain-community<0.4.0,>=0.3.0->langchain-experimental) (0.3.3)\n",
            "Requirement already satisfied: httpx<1,>=0.23.0 in /usr/local/lib/python3.10/dist-packages (from langsmith<0.3,>=0.1.125->langchain-community<0.4.0,>=0.3.0->langchain-experimental) (0.28.1)\n",
            "Requirement already satisfied: orjson<4.0.0,>=3.9.14 in /usr/local/lib/python3.10/dist-packages (from langsmith<0.3,>=0.1.125->langchain-community<0.4.0,>=0.3.0->langchain-experimental) (3.10.12)\n",
            "Requirement already satisfied: requests-toolbelt<2.0.0,>=1.0.0 in /usr/local/lib/python3.10/dist-packages (from langsmith<0.3,>=0.1.125->langchain-community<0.4.0,>=0.3.0->langchain-experimental) (1.0.0)\n",
            "Requirement already satisfied: annotated-types>=0.6.0 in /usr/local/lib/python3.10/dist-packages (from pydantic<3.0.0,>=2.5.2->langchain-core<0.4.0,>=0.3.28->langchain-experimental) (0.7.0)\n",
            "Requirement already satisfied: pydantic-core==2.27.1 in /usr/local/lib/python3.10/dist-packages (from pydantic<3.0.0,>=2.5.2->langchain-core<0.4.0,>=0.3.28->langchain-experimental) (2.27.1)\n",
            "Requirement already satisfied: python-dotenv>=0.21.0 in /usr/local/lib/python3.10/dist-packages (from pydantic-settings<3.0.0,>=2.4.0->langchain-community<0.4.0,>=0.3.0->langchain-experimental) (1.0.1)\n",
            "Requirement already satisfied: charset-normalizer<4,>=2 in /usr/local/lib/python3.10/dist-packages (from requests<3,>=2->langchain-community<0.4.0,>=0.3.0->langchain-experimental) (3.4.0)\n",
            "Requirement already satisfied: idna<4,>=2.5 in /usr/local/lib/python3.10/dist-packages (from requests<3,>=2->langchain-community<0.4.0,>=0.3.0->langchain-experimental) (3.10)\n",
            "Requirement already satisfied: urllib3<3,>=1.21.1 in /usr/local/lib/python3.10/dist-packages (from requests<3,>=2->langchain-community<0.4.0,>=0.3.0->langchain-experimental) (2.2.3)\n",
            "Requirement already satisfied: certifi>=2017.4.17 in /usr/local/lib/python3.10/dist-packages (from requests<3,>=2->langchain-community<0.4.0,>=0.3.0->langchain-experimental) (2024.12.14)\n",
            "Requirement already satisfied: greenlet!=0.4.17 in /usr/local/lib/python3.10/dist-packages (from SQLAlchemy<3,>=1.4->langchain-community<0.4.0,>=0.3.0->langchain-experimental) (3.1.1)\n",
            "Requirement already satisfied: anyio in /usr/local/lib/python3.10/dist-packages (from httpx<1,>=0.23.0->langsmith<0.3,>=0.1.125->langchain-community<0.4.0,>=0.3.0->langchain-experimental) (3.7.1)\n",
            "Requirement already satisfied: httpcore==1.* in /usr/local/lib/python3.10/dist-packages (from httpx<1,>=0.23.0->langsmith<0.3,>=0.1.125->langchain-community<0.4.0,>=0.3.0->langchain-experimental) (1.0.7)\n",
            "Requirement already satisfied: h11<0.15,>=0.13 in /usr/local/lib/python3.10/dist-packages (from httpcore==1.*->httpx<1,>=0.23.0->langsmith<0.3,>=0.1.125->langchain-community<0.4.0,>=0.3.0->langchain-experimental) (0.14.0)\n",
            "Requirement already satisfied: mypy-extensions>=0.3.0 in /usr/local/lib/python3.10/dist-packages (from typing-inspect<1,>=0.4.0->dataclasses-json<0.7,>=0.5.7->langchain-community<0.4.0,>=0.3.0->langchain-experimental) (1.0.0)\n",
            "Requirement already satisfied: sniffio>=1.1 in /usr/local/lib/python3.10/dist-packages (from anyio->httpx<1,>=0.23.0->langsmith<0.3,>=0.1.125->langchain-community<0.4.0,>=0.3.0->langchain-experimental) (1.3.1)\n",
            "Requirement already satisfied: exceptiongroup in /usr/local/lib/python3.10/dist-packages (from anyio->httpx<1,>=0.23.0->langsmith<0.3,>=0.1.125->langchain-community<0.4.0,>=0.3.0->langchain-experimental) (1.2.2)\n",
            "Downloading langchain_experimental-0.3.4-py3-none-any.whl (209 kB)\n",
            "\u001b[2K   \u001b[90m━━━━━━━━━━━━━━━━━━━━━━━━━━━━━━━━━━━━━━━━\u001b[0m \u001b[32m209.2/209.2 kB\u001b[0m \u001b[31m13.6 MB/s\u001b[0m eta \u001b[36m0:00:00\u001b[0m\n",
            "\u001b[?25hInstalling collected packages: langchain-experimental\n",
            "Successfully installed langchain-experimental-0.3.4\n"
          ]
        }
      ],
      "source": [
        "!pip install langchain-experimental"
      ]
    },
    {
      "cell_type": "code",
      "execution_count": 7,
      "metadata": {
        "colab": {
          "base_uri": "https://localhost:8080/"
        },
        "id": "-6JBInnQw8BW",
        "outputId": "951b6202-bbca-4b99-dc3e-e9470a3201c3"
      },
      "outputs": [
        {
          "data": {
            "text/plain": [
              "<langchain_experimental.graph_transformers.llm.LLMGraphTransformer at 0x7ff24caf2da0>"
            ]
          },
          "execution_count": 7,
          "metadata": {},
          "output_type": "execute_result"
        }
      ],
      "source": [
        "from langchain_experimental.graph_transformers import LLMGraphTransformer\n",
        "llm_transformer=LLMGraphTransformer(llm=llm)\n",
        "llm_transformer"
      ]
    },
    {
      "cell_type": "code",
      "execution_count": 128,
      "metadata": {
        "id": "FHLa8PSdBY-t"
      },
      "outputs": [],
      "source": [
        "query = \"\"\"\n",
        "// Create Knowledge node\n",
        "MERGE (knowledge:Knowledge {name: 'Knowledge'})\n",
        "\n",
        "// Create and connect PYS\n",
        "MERGE (pys:PYS {name: 'PYS'})\n",
        "MERGE (knowledge)-[:HAS_SOURCE]->(pys)\n",
        "\n",
        "// Create and connect GITA\n",
        "MERGE (gita:GITA {name: 'GITA'})\n",
        "MERGE (knowledge)-[:HAS_SOURCE]->(gita)\n",
        "\"\"\"\n"
      ]
    },
    {
      "cell_type": "code",
      "execution_count": 129,
      "metadata": {
        "colab": {
          "base_uri": "https://localhost:8080/"
        },
        "id": "T8s4vo46HU0M",
        "outputId": "af637a3c-156c-41f8-ea7b-51138c7fb66f"
      },
      "outputs": [
        {
          "data": {
            "text/plain": [
              "[]"
            ]
          },
          "execution_count": 129,
          "metadata": {},
          "output_type": "execute_result"
        }
      ],
      "source": [
        "graph.query(query)"
      ]
    },
    {
      "cell_type": "code",
      "execution_count": 130,
      "metadata": {
        "id": "1bivT2cV6ZMe"
      },
      "outputs": [],
      "source": [
        "query = \"\"\"\n",
        "// =========================== PYS Dataset ===========================\n",
        "\n",
        "\n",
        "// Load and process PYS dataset\n",
        "LOAD CSV WITH HEADERS FROM 'https://raw.githubusercontent.com/parth1609/RAGveda/main/dataset/PYS_English_Questions.csv' AS row\n",
        "WITH row\n",
        "WHERE row.chapter IS NOT NULL AND row.chapter <> ''\n",
        "  AND row.verse IS NOT NULL AND row.verse <> ''\n",
        "\n",
        "// Ensure the Knowledge node exists\n",
        "MERGE (knowledge:Knowledge {name: 'Knowledge'})\n",
        "\n",
        "// Create the PYS label and connect it to Knowledge\n",
        "MERGE (pys:PYS {name: 'PYS'})\n",
        "MERGE (knowledge)-[:HAS_SOURCE]->(pys)\n",
        "\n",
        "// Create PYS chapters and their relationships\n",
        "MERGE (chapter:PYSChapter {name: row.chapter})\n",
        "MERGE (pys)-[:HAS_CHAPTER]->(chapter)\n",
        "\n",
        "// Create PYS verses and their relationships\n",
        "MERGE (verse:PYSVerse {number: row.verse, chapterName: row.chapter})\n",
        "MERGE (chapter)-[:HAS_VERSE]->(verse)\n",
        "\n",
        "// Create PYS Sanskrit shlokas and their relationships\n",
        "MERGE (shloka:PYSShloka {text: row.sanskrit, verseNumber: row.verse, chapterName: row.chapter})\n",
        "MERGE (verse)-[:HAS_SHLOKA]->(shloka)\n",
        "\n",
        "// Create PYS translations and their relationships\n",
        "MERGE (translation:PYSTranslation {text: row.translation, verseNumber: row.verse, chapterName: row.chapter})\n",
        "MERGE (shloka)-[:HAS_TRANSLATION]->(translation)\n",
        "\n",
        "// Create PYS questions and their relationships\n",
        "MERGE (question:PYSQuestion {text: row.question, translationText: row.translation, verseNumber: row.verse, chapterName: row.chapter})\n",
        "MERGE (translation)-[:RELATED_QUESTION]->(question)\n",
        "MERGE (question)-[:ABOUT]->(translation)\n",
        "MERGE (question)-[:HAVING_VERSE]->(shloka)\n",
        "\n",
        "\n",
        "\"\"\""
      ]
    },
    {
      "cell_type": "code",
      "execution_count": 131,
      "metadata": {
        "colab": {
          "base_uri": "https://localhost:8080/"
        },
        "id": "xzyoA6lvBei_",
        "outputId": "0d7134a8-9158-4aa4-889e-a8e226efba4b"
      },
      "outputs": [
        {
          "data": {
            "text/plain": [
              "[]"
            ]
          },
          "execution_count": 131,
          "metadata": {},
          "output_type": "execute_result"
        }
      ],
      "source": [
        "graph.query(query)"
      ]
    },
    {
      "cell_type": "code",
      "execution_count": 96,
      "metadata": {
        "colab": {
          "base_uri": "https://localhost:8080/"
        },
        "id": "b2_1upMN6uba",
        "outputId": "9519c670-18ea-42ba-fc5b-dc563c7b9b85"
      },
      "outputs": [
        {
          "data": {
            "text/plain": [
              "<langchain_community.graphs.neo4j_graph.Neo4jGraph at 0x7ff24caf1240>"
            ]
          },
          "execution_count": 96,
          "metadata": {},
          "output_type": "execute_result"
        }
      ],
      "source": [
        "graph"
      ]
    },
    {
      "cell_type": "code",
      "execution_count": 97,
      "metadata": {
        "colab": {
          "base_uri": "https://localhost:8080/"
        },
        "id": "PMnalxh36vtn",
        "outputId": "18f93f2e-32e3-45e2-ba54-7967227161c7"
      },
      "outputs": [
        {
          "data": {
            "text/plain": [
              "[]"
            ]
          },
          "execution_count": 97,
          "metadata": {},
          "output_type": "execute_result"
        }
      ],
      "source": [
        "graph.query(query)"
      ]
    },
    {
      "cell_type": "code",
      "execution_count": 146,
      "metadata": {
        "id": "QR5tcKDr_VCj"
      },
      "outputs": [],
      "source": [
        "query = \"\"\"\n",
        "\n",
        "// Load and process GITA dataset\n",
        "LOAD CSV WITH HEADERS FROM 'https://raw.githubusercontent.com/parth1609/RAGveda/main/dataset/Gita_questions.csv' AS row\n",
        "WITH row\n",
        "WHERE row.chapter IS NOT NULL AND row.chapter <> ''\n",
        "  AND row.verse IS NOT NULL AND row.verse <> ''\n",
        "\n",
        "// Ensure the Knowledge node exists\n",
        "MERGE (knowledge:Knowledge {name: 'Knowledge'})\n",
        "\n",
        "// Create the GITA label and connect it to Knowledge\n",
        "MERGE (gita:GITA {name: 'GITA'})\n",
        "MERGE (knowledge)-[:HAS_SOURCE]->(gita)\n",
        "\n",
        "// Create GITA chapters and their relationships\n",
        "MERGE (chapter:GITAChapter {name: row.chapter})\n",
        "MERGE (gita)-[:HAS_CHAPTER]->(chapter)\n",
        "\n",
        "// Create GITA verses and their relationships\n",
        "MERGE (verse:GITAVerse {number: row.verse, chapterName: row.chapter})\n",
        "MERGE (chapter)-[:HAS_VERSE]->(verse)\n",
        "\n",
        "// Create GITA Sanskrit shlokas and their relationships\n",
        "MERGE (shloka:GITASanskritShloka {text: row.sanskrit, verseNumber: row.verse, chapterName: row.chapter})\n",
        "MERGE (verse)-[:HAS_SHLOKA]->(shloka)\n",
        "\n",
        "// Create GITA translations and their relationships\n",
        "MERGE (translation:GITATranslation {text: row.translation, verseNumber: row.verse, chapterName: row.chapter})\n",
        "MERGE (shloka)-[:HAS_TRANSLATION]->(translation)\n",
        "\n",
        "// Create GITA questions and their relationships\n",
        "MERGE (question:GITAQuestion {text: row.question, translationText: row.translation, verseNumber: row.verse, chapterName: row.chapter})\n",
        "MERGE (translation)-[:RELATED_QUESTION]->(question)\n",
        "MERGE (question)-[:ABOUT]->(translation)\n",
        "\n",
        "\n",
        "// Connect GITA speakers to Sanskrit shlokas\n",
        "MERGE (speaker:GITASpeaker {name: row.speaker})\n",
        "MERGE (speaker)-[:SAID_SHLOKA]->(shloka)\n",
        "\n",
        "\"\"\""
      ]
    },
    {
      "cell_type": "code",
      "execution_count": 147,
      "metadata": {
        "colab": {
          "base_uri": "https://localhost:8080/"
        },
        "id": "yEzVn1JG_dUF",
        "outputId": "d18f3b94-157e-49be-d306-6f08398169fb"
      },
      "outputs": [
        {
          "data": {
            "text/plain": [
              "<langchain_community.graphs.neo4j_graph.Neo4jGraph at 0x7ff24caf1240>"
            ]
          },
          "execution_count": 147,
          "metadata": {},
          "output_type": "execute_result"
        }
      ],
      "source": [
        "graph"
      ]
    },
    {
      "cell_type": "code",
      "execution_count": 148,
      "metadata": {
        "colab": {
          "base_uri": "https://localhost:8080/"
        },
        "id": "ffaj-HJh_got",
        "outputId": "ec582535-8bd0-4536-8d92-fa29883fa667"
      },
      "outputs": [
        {
          "data": {
            "text/plain": [
              "[]"
            ]
          },
          "execution_count": 148,
          "metadata": {},
          "output_type": "execute_result"
        }
      ],
      "source": [
        "graph.query(query)"
      ]
    },
    {
      "cell_type": "code",
      "execution_count": 145,
      "metadata": {
        "colab": {
          "base_uri": "https://localhost:8080/"
        },
        "id": "p2xXclda6zDC",
        "outputId": "76eb6100-7a87-4d8c-c200-c5f25eaf59cc"
      },
      "outputs": [
        {
          "name": "stdout",
          "output_type": "stream",
          "text": [
            "Node properties:\n",
            "PYS {name: STRING}\n",
            "Knowledge {name: STRING}\n",
            "PYSChapter {name: STRING}\n",
            "PYSVerse {number: STRING, chapterName: STRING}\n",
            "PYSShloka {chapterName: STRING, verseNumber: STRING, text: STRING}\n",
            "PYSTranslation {chapterName: STRING, verseNumber: STRING, text: STRING}\n",
            "PYSQuestion {chapterName: STRING, verseNumber: STRING, text: STRING, translationText: STRING}\n",
            "GITA {name: STRING}\n",
            "GITAChapter {name: STRING}\n",
            "GITAVerse {number: STRING, chapterName: STRING}\n",
            "GITASanskritShloka {chapterName: STRING, verseNumber: STRING, text: STRING}\n",
            "GITATranslation {chapterName: STRING, verseNumber: STRING, text: STRING}\n",
            "GITAQuestion {chapterName: STRING, verseNumber: STRING, text: STRING, translationText: STRING}\n",
            "GITASpeaker {name: STRING}\n",
            "Relationship properties:\n",
            "\n",
            "The relationships:\n",
            "(:PYS)-[:HAS_CHAPTER]->(:PYSChapter)\n",
            "(:Knowledge)-[:HAS_SOURCE]->(:PYS)\n",
            "(:Knowledge)-[:HAS_SOURCE]->(:GITA)\n",
            "(:PYSChapter)-[:HAS_VERSE]->(:PYSVerse)\n",
            "(:PYSVerse)-[:HAS_SHLOKA]->(:PYSShloka)\n",
            "(:PYSShloka)-[:HAS_TRANSLATION]->(:PYSTranslation)\n",
            "(:PYSTranslation)-[:RELATED_QUESTION]->(:PYSQuestion)\n",
            "(:PYSQuestion)-[:ABOUT]->(:PYSTranslation)\n",
            "(:PYSQuestion)-[:HAVING_VERSE]->(:PYSShloka)\n",
            "(:GITA)-[:HAS_CHAPTER]->(:GITAChapter)\n",
            "(:GITAChapter)-[:HAS_VERSE]->(:GITAVerse)\n",
            "(:GITAVerse)-[:HAS_SHLOKA]->(:GITASanskritShloka)\n",
            "(:GITASanskritShloka)-[:HAS_TRANSLATION]->(:GITATranslation)\n",
            "(:GITATranslation)-[:RELATED_QUESTION]->(:GITAQuestion)\n",
            "(:GITAQuestion)-[:ABOUT]->(:GITATranslation)\n",
            "(:GITAQuestion)-[:HAVING_VERSE]->(:GITASanskritShloka)\n",
            "(:GITASpeaker)-[:SAID_SHLOKA]->(:GITASanskritShloka)\n"
          ]
        }
      ],
      "source": [
        "graph.refresh_schema()\n",
        "print(graph.schema)"
      ]
    },
    {
      "cell_type": "code",
      "execution_count": 136,
      "metadata": {
        "id": "C0WHfFbbBfiX"
      },
      "outputs": [],
      "source": [
        "from langchain.chains import GraphCypherQAChain\n",
        "chain = GraphCypherQAChain.from_llm(llm=llm, graph=graph, verbose=True, allow_dangerous_requests=True) # Added allow_dangerous_requests=True"
      ]
    },
    {
      "cell_type": "code",
      "execution_count": 137,
      "metadata": {
        "id": "uVH109t3CGl9"
      },
      "outputs": [],
      "source": [
        "%pip install -qU langchain-groq"
      ]
    },
    {
      "cell_type": "code",
      "execution_count": 149,
      "metadata": {
        "id": "OPw4_SyWCL9I"
      },
      "outputs": [],
      "source": [
        "from langchain_groq import ChatGroq\n",
        "llm = ChatGroq(\n",
        "    model=\"mixtral-8x7b-32768\",\n",
        "    temperature=0,\n",
        "    groq_api_key=GROQ_API_KEY,\n",
        "    max_tokens=1000,\n",
        ")"
      ]
    },
    {
      "cell_type": "code",
      "execution_count": 150,
      "metadata": {
        "colab": {
          "base_uri": "https://localhost:8080/"
        },
        "id": "WI4RgdWkDzD2",
        "outputId": "219cdc3c-ab78-4e3e-9b16-73550a18dc89"
      },
      "outputs": [
        {
          "data": {
            "text/plain": [
              "GraphCypherQAChain(verbose=True, graph=<langchain_community.graphs.neo4j_graph.Neo4jGraph object at 0x7ff24caf1240>, cypher_generation_chain=LLMChain(verbose=False, prompt=PromptTemplate(input_variables=['question', 'schema'], input_types={}, partial_variables={}, template='Task:Generate Cypher statement to query a graph database.\\nInstructions:\\nUse only the provided relationship types and properties in the schema.\\nDo not use any other relationship types or properties that are not provided.\\nSchema:\\n{schema}\\nNote: Do not include any explanations or apologies in your responses.\\nDo not respond to any questions that might ask anything else than for you to construct a Cypher statement.\\nDo not include any text except the generated Cypher statement.\\n\\nThe question is:\\n{question}'), llm=ChatGroq(client=<groq.resources.chat.completions.Completions object at 0x7ff211d65390>, async_client=<groq.resources.chat.completions.AsyncCompletions object at 0x7ff211fc8670>, temperature=1e-08, model_kwargs={}, groq_api_key=SecretStr('**********'), max_tokens=1000), output_parser=StrOutputParser(), llm_kwargs={}), qa_chain=LLMChain(verbose=False, prompt=PromptTemplate(input_variables=['context', 'question'], input_types={}, partial_variables={}, template=\"You are an assistant that helps to form nice and human understandable answers.\\nThe information part contains the provided information that you must use to construct an answer.\\nThe provided information is authoritative, you must never doubt it or try to use your internal knowledge to correct it.\\nMake the answer sound as a response to the question. Do not mention that you based the result on the given information.\\nHere is an example:\\n\\nQuestion: Which managers own Neo4j stocks?\\nContext:[manager:CTL LLC, manager:JANE STREET GROUP LLC]\\nHelpful Answer: CTL LLC, JANE STREET GROUP LLC owns Neo4j stocks.\\n\\nFollow this example when generating answers.\\nIf the provided information is empty, say that you don't know the answer.\\nInformation:\\n{context}\\n\\nQuestion: {question}\\nHelpful Answer:\"), llm=ChatGroq(client=<groq.resources.chat.completions.Completions object at 0x7ff211d65390>, async_client=<groq.resources.chat.completions.AsyncCompletions object at 0x7ff211fc8670>, temperature=1e-08, model_kwargs={}, groq_api_key=SecretStr('**********'), max_tokens=1000), output_parser=StrOutputParser(), llm_kwargs={}), graph_schema='Node properties are the following:\\nPYS {name: STRING},Knowledge {name: STRING},PYSChapter {name: STRING},PYSVerse {number: STRING, chapterName: STRING},PYSShloka {chapterName: STRING, verseNumber: STRING, text: STRING},PYSTranslation {chapterName: STRING, verseNumber: STRING, text: STRING},PYSQuestion {chapterName: STRING, verseNumber: STRING, text: STRING, translationText: STRING},GITA {name: STRING},GITAChapter {name: STRING},GITAVerse {number: STRING, chapterName: STRING},GITASanskritShloka {chapterName: STRING, verseNumber: STRING, text: STRING},GITATranslation {chapterName: STRING, verseNumber: STRING, text: STRING},GITAQuestion {chapterName: STRING, verseNumber: STRING, text: STRING, translationText: STRING},GITASpeaker {name: STRING}\\nRelationship properties are the following:\\n\\nThe relationships are the following:\\n(:PYS)-[:HAS_CHAPTER]->(:PYSChapter),(:Knowledge)-[:HAS_SOURCE]->(:PYS),(:Knowledge)-[:HAS_SOURCE]->(:GITA),(:PYSChapter)-[:HAS_VERSE]->(:PYSVerse),(:PYSVerse)-[:HAS_SHLOKA]->(:PYSShloka),(:PYSShloka)-[:HAS_TRANSLATION]->(:PYSTranslation),(:PYSTranslation)-[:RELATED_QUESTION]->(:PYSQuestion),(:PYSQuestion)-[:ABOUT]->(:PYSTranslation),(:PYSQuestion)-[:HAVING_VERSE]->(:PYSShloka),(:GITA)-[:HAS_CHAPTER]->(:GITAChapter),(:GITAChapter)-[:HAS_VERSE]->(:GITAVerse),(:GITAVerse)-[:HAS_SHLOKA]->(:GITASanskritShloka),(:GITASanskritShloka)-[:HAS_TRANSLATION]->(:GITATranslation),(:GITATranslation)-[:RELATED_QUESTION]->(:GITAQuestion),(:GITAQuestion)-[:ABOUT]->(:GITATranslation),(:GITAQuestion)-[:HAVING_VERSE]->(:GITASanskritShloka),(:GITASpeaker)-[:SAID_SHLOKA]->(:GITASanskritShloka)', allow_dangerous_requests=True)"
            ]
          },
          "execution_count": 150,
          "metadata": {},
          "output_type": "execute_result"
        }
      ],
      "source": [
        "from langchain.chains import GraphCypherQAChain\n",
        "chain = GraphCypherQAChain.from_llm(llm=llm, graph=graph, verbose=True, allow_dangerous_requests=True)\n",
        "\n",
        "chain\n"
      ]
    },
    {
      "cell_type": "code",
      "execution_count": 162,
      "metadata": {
        "colab": {
          "base_uri": "https://localhost:8080/"
        },
        "id": "lk8HKdn-D4yA",
        "outputId": "58c5d78d-b76b-4c75-9034-617bb083997b"
      },
      "outputs": [
        {
          "name": "stdout",
          "output_type": "stream",
          "text": [
            "\n",
            "\n",
            "\u001b[1m> Entering new GraphCypherQAChain chain...\u001b[0m\n",
            "Generated Cypher:\n",
            "\u001b[32;1m\u001b[1;3mMATCH (gita:GITA)-[:HAS_CHAPTER]->(chapter:GITAChapter)-[:HAS_VERSE]->(verse:GITAVerse)-[:HAS_SHLOKA]->(shloka:GITASanskritShloka)\n",
            "WHERE gita.name = 'GITA' AND chapter.name = 'Chapter 1' AND verse.number = '1'\n",
            "RETURN shloka.text AS startShloka\u001b[0m\n",
            "Full Context:\n",
            "\u001b[32;1m\u001b[1;3m[]\u001b[0m\n",
            "\n",
            "\u001b[1m> Finished chain.\u001b[0m\n"
          ]
        },
        {
          "data": {
            "text/plain": [
              "{'query': 'what answer of this How does the Gita start? ?',\n",
              " 'result': \"I don't have information on how the Gita starts.\"}"
            ]
          },
          "execution_count": 162,
          "metadata": {},
          "output_type": "execute_result"
        }
      ],
      "source": [
        "question = \"How does the Gita start?\"\n",
        "sanskritShloka = \"धर्मक्षेत्रे कुरुक्षेत्रे समवेता युयुत्सवः| मामकाः पाण्डवाश्चैव किमकुर्वत सञ्जय || 1.1 ||\"\n",
        "speaker = \"अर्जुन\"\n",
        "response=chain.invoke({\"query\":f\"what answer of this {question} ?\"})\n",
        "response"
      ]
    },
    {
      "cell_type": "code",
      "execution_count": null,
      "metadata": {
        "id": "MTqxNegJEQJN"
      },
      "outputs": [],
      "source": []
    }
  ],
  "metadata": {
    "accelerator": "GPU",
    "colab": {
      "gpuType": "T4",
      "provenance": []
    },
    "kernelspec": {
      "display_name": "Python 3",
      "name": "python3"
    },
    "language_info": {
      "name": "python"
    }
  },
  "nbformat": 4,
  "nbformat_minor": 0
}
